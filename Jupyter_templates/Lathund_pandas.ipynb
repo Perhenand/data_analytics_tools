{
 "cells": [
  {
   "cell_type": "markdown",
   "id": "8394fc97",
   "metadata": {},
   "source": [
    "# Pandas intro"
   ]
  },
  {
   "cell_type": "code",
   "execution_count": 2,
   "id": "d9ab3237",
   "metadata": {},
   "outputs": [],
   "source": [
    "import pandas as pd\n",
    "import numpy as np"
   ]
  },
  {
   "cell_type": "markdown",
   "id": "678ed26f",
   "metadata": {},
   "source": [
    "# Pandas Documentation\n",
    "\n",
    "Get familiar with the Pandas documentation:\n",
    "- Neat structure\n",
    "- Let the documentation do some of the heavy lifting for you!\n",
    "\n",
    "**Overview of DataFrames and their attributes and methods:**\n",
    "- [Link to Pandas DataFrame docs](https://pandas.pydata.org/docs/reference/api/pandas.DataFrame.html) | Pandas Website > API Reference > DataFrames > pandas.DataFrame\n",
    "    - 16 attributes\n",
    "    - 195 methods\n",
    "        - with 1-n number of parameters\n",
    "        \n",
    "**Overview of Series objects and their attributes and methods:**\n",
    "- [Link to Pandas DataFrame docs](https://pandas.pydata.org/docs/reference/api/pandas.Series.html) | Pandas Website > API Reference > DataFrames > pandas.Series\n",
    "    - 23 attributes\n",
    "    - 188 methods\n",
    "        - with 1-n number of parameters\n",
    "        \n",
    "**Attencione!** There is lots of overlap between attributes and methods for Pandas DataFrame objects and Pandas Series objects \n",
    "\n",
    "\n",
    "*Don't forget! shift + tab for fast access to docs*"
   ]
  },
  {
   "cell_type": "markdown",
   "id": "e2f655e6",
   "metadata": {},
   "source": [
    "# Pandas `DataFrame()`"
   ]
  },
  {
   "cell_type": "markdown",
   "id": "2588fa0e",
   "metadata": {},
   "source": [
    "## Creating and saving"
   ]
  },
  {
   "cell_type": "markdown",
   "id": "0ea2e7b3",
   "metadata": {},
   "source": [
    "### From data"
   ]
  },
  {
   "cell_type": "code",
   "execution_count": null,
   "id": "1352e9bd",
   "metadata": {},
   "outputs": [],
   "source": [
    "lst1 = [1,2,3]\n",
    "lst2 = [9,8,7]\n",
    "\n",
    "df = pd.DataFrame(data = [lst1,lst2], columns = [\"Col_1\",\"Col_2\",\"Col_3\"])"
   ]
  },
  {
   "cell_type": "code",
   "execution_count": null,
   "id": "8c693864",
   "metadata": {},
   "outputs": [],
   "source": [
    "d = {\"col_1\":[1,2,3],\"col_2\":[11,22,33],\"col_3\":[\"uno\",\"dos\",\"tres\"],\"col_4\":[\"uno\",\"dos\",\"tres\"]}\n",
    "\n",
    "df = pd.DataFrame(data=d)"
   ]
  },
  {
   "cell_type": "code",
   "execution_count": 4,
   "id": "3117be7f",
   "metadata": {},
   "outputs": [
    {
     "data": {
      "text/html": [
       "<div>\n",
       "<style scoped>\n",
       "    .dataframe tbody tr th:only-of-type {\n",
       "        vertical-align: middle;\n",
       "    }\n",
       "\n",
       "    .dataframe tbody tr th {\n",
       "        vertical-align: top;\n",
       "    }\n",
       "\n",
       "    .dataframe thead th {\n",
       "        text-align: right;\n",
       "    }\n",
       "</style>\n",
       "<table border=\"1\" class=\"dataframe\">\n",
       "  <thead>\n",
       "    <tr style=\"text-align: right;\">\n",
       "      <th></th>\n",
       "      <th>Data</th>\n",
       "    </tr>\n",
       "  </thead>\n",
       "  <tbody>\n",
       "    <tr>\n",
       "      <th>col_1</th>\n",
       "      <td>1</td>\n",
       "    </tr>\n",
       "    <tr>\n",
       "      <th>col_2</th>\n",
       "      <td>2</td>\n",
       "    </tr>\n",
       "    <tr>\n",
       "      <th>col_3</th>\n",
       "      <td>3</td>\n",
       "    </tr>\n",
       "  </tbody>\n",
       "</table>\n",
       "</div>"
      ],
      "text/plain": [
       "       Data\n",
       "col_1     1\n",
       "col_2     2\n",
       "col_3     3"
      ]
     },
     "execution_count": 4,
     "metadata": {},
     "output_type": "execute_result"
    }
   ],
   "source": [
    "# Use nested dictionaries to insert index values\n",
    "d = {\"col_1\":1,\"col_2\":2,\"col_3\":3}\n",
    "\n",
    "df2 = pd.DataFrame({\"Data\":d})\n",
    "df2"
   ]
  },
  {
   "cell_type": "code",
   "execution_count": null,
   "id": "6dc7b84b",
   "metadata": {},
   "outputs": [],
   "source": [
    "# Constructing DataFrame from a numpy ndarray that has labeled columns:\n",
    "data = np.array([(1, 2, 3), (4, 5, 6), (7, 8, 9)],dtype=[(\"a\", \"i4\"), (\"b\", \"i4\"), (\"c\", \"i4\")])\n",
    "\n",
    "pd.DataFrame(data, columns=['c', 'a'])"
   ]
  },
  {
   "cell_type": "markdown",
   "id": "12fb8ec7",
   "metadata": {},
   "source": [
    "### From file"
   ]
  },
  {
   "cell_type": "code",
   "execution_count": null,
   "id": "74e72366",
   "metadata": {},
   "outputs": [],
   "source": [
    "df = pd.read_csv(\"titanic.csv\")\n",
    "df = pd.read_csv(\"temp.csv\",parse_dates=[\"datetime\"],index_col=\"datetime\") # Formating and column naming\n",
    "df = pd.read_csv(\"stocks.csv\",header = [0,1],index_col=[0],parse_dates=[0]) # Aassign row 0 and 1 as header"
   ]
  },
  {
   "cell_type": "code",
   "execution_count": null,
   "id": "cbeabddb",
   "metadata": {},
   "outputs": [],
   "source": [
    "# With lambda\n",
    "urls = lambda i: f\"data/carsales/{i}\"\n",
    "dfc = pd.read_csv(urls(\"norway_new_car_sales_by_model.csv\"),encoding = \"ansi\")\n",
    "dfm = pd.read_csv(urls(\"norway_new_car_sales_by_make.csv\"),encoding = \"ansi\")"
   ]
  },
  {
   "cell_type": "markdown",
   "id": "9d022c32",
   "metadata": {},
   "source": [
    "### From html"
   ]
  },
  {
   "cell_type": "code",
   "execution_count": null,
   "id": "62b98b89",
   "metadata": {
    "scrolled": true
   },
   "outputs": [],
   "source": [
    "hsd = \"https://en.wikipedia.org/wiki/List_of_countries_by_GDP_(nominal)\"\n",
    "\n",
    "dfe = pd.read_html(hsd)\n",
    "#dfe[2].loc[129]"
   ]
  },
  {
   "cell_type": "markdown",
   "id": "23914984",
   "metadata": {},
   "source": [
    "### Save to file"
   ]
  },
  {
   "cell_type": "code",
   "execution_count": null,
   "id": "a4fb4039",
   "metadata": {},
   "outputs": [],
   "source": [
    "df.to_csv(\"test_to_csv.csv\",index=False)"
   ]
  },
  {
   "cell_type": "markdown",
   "id": "bf77f724",
   "metadata": {},
   "source": [
    "## Duplicating Df\n",
    "\n",
    "`copy()`"
   ]
  },
  {
   "cell_type": "markdown",
   "id": "d836cdd7",
   "metadata": {},
   "source": [
    "<font color=red>Allways use copy() to duplicate DataFrames.</font> Typing df2 = df1 will create df2 as a reference to df1, and changes made in df1 will automatically also be made in df2."
   ]
  },
  {
   "cell_type": "markdown",
   "id": "fd64e2de",
   "metadata": {},
   "source": [
    "## Data types"
   ]
  },
  {
   "cell_type": "markdown",
   "id": "d69bdccc",
   "metadata": {},
   "source": [
    "`'int64'`, `float64`, `object`, `bool`, `category`, `datetime64[ns]`, `timedelta[ns]`"
   ]
  },
  {
   "cell_type": "markdown",
   "id": "6c9cd295",
   "metadata": {},
   "source": [
    "https://pandas.pydata.org/pandas-docs/stable/user_guide/basics.html#basics-dtypes"
   ]
  },
  {
   "cell_type": "code",
   "execution_count": null,
   "id": "f3b9ca07",
   "metadata": {},
   "outputs": [],
   "source": [
    "# Check data type\n",
    "data[feature].dtype == 'bool'"
   ]
  },
  {
   "cell_type": "code",
   "execution_count": null,
   "id": "b7f2cdb2",
   "metadata": {},
   "outputs": [],
   "source": [
    "# Select columns with dtype\n",
    "df.select_dtypes(include=[\"bool\"])\n",
    "df.select_dtypes(\"number\")"
   ]
  },
  {
   "cell_type": "code",
   "execution_count": null,
   "id": "18ff5b10",
   "metadata": {},
   "outputs": [],
   "source": [
    "# select column names not of dtype\n",
    "df2.select_dtypes(exclude=[\"bool\",\"object\",\"category\"]).columns"
   ]
  },
  {
   "cell_type": "markdown",
   "id": "599d257f",
   "metadata": {},
   "source": [
    "## Df attributes\n",
    "`shape`, `size`, `dtypes`, `index`, `columns`"
   ]
  },
  {
   "cell_type": "code",
   "execution_count": null,
   "id": "34d61960",
   "metadata": {},
   "outputs": [],
   "source": [
    "df.shape #tuple representing the dimensionality of the DataFrame\n",
    "df.size # Return rows x columns (volume of dataframe)\n",
    "df.dtypes #Return the dtypes in the DataFrame, note that object datatype in Pandas = string\n",
    "df.columns"
   ]
  },
  {
   "cell_type": "code",
   "execution_count": null,
   "id": "1e30f346",
   "metadata": {},
   "outputs": [],
   "source": [
    "df.index\n",
    "df.index.values"
   ]
  },
  {
   "cell_type": "code",
   "execution_count": null,
   "id": "fc117d8e",
   "metadata": {},
   "outputs": [],
   "source": [
    "df[['col_1', 'col_2']]"
   ]
  },
  {
   "cell_type": "markdown",
   "id": "4eda4008",
   "metadata": {},
   "source": [
    "## Df methods\n",
    "`head()`, `tail()`, `info()`, `describe()`, `.isna()`\n",
    "\n",
    "`sort_values()`\n",
    "\n",
    "`sort_index()`, `reset_index()`\n",
    "\n",
    "`rename()`\n",
    "\n",
    "`agg()`, `corr()`\n",
    "\n",
    "`drop()`, `dropna()`, `fillna()`, `isna()`"
   ]
  },
  {
   "cell_type": "code",
   "execution_count": null,
   "id": "5f2efce3",
   "metadata": {},
   "outputs": [],
   "source": [
    "df.head(2)\n",
    "df.info()\n",
    "df.describe()\n",
    "df.describe(include=\"O\")\n",
    "df.sort_values(\"col_1\")\n",
    "df.sort_values(by=\"col_1\",ascending=True,inplace=False)\n",
    "df.sort_values(by = [\"col_1\", \"col_2\"],ascending = [False,True])\n",
    "df.reset_index(drop=True, inplace = True)"
   ]
  },
  {
   "cell_type": "code",
   "execution_count": null,
   "id": "ebced123",
   "metadata": {},
   "outputs": [],
   "source": [
    "df.rename(columns = {\"col_1\":\"col11\"},inplace = False)"
   ]
  },
  {
   "cell_type": "markdown",
   "id": "c0c5311c",
   "metadata": {},
   "source": [
    "### `agg()`"
   ]
  },
  {
   "cell_type": "code",
   "execution_count": null,
   "id": "dcba5da7",
   "metadata": {},
   "outputs": [],
   "source": [
    "df.mean(numeric_only = True)\n",
    "df.agg(\"mean\",numeric_only = True) # Mean via aggregation function\n",
    "df.agg([\"mean\",\"median\",\"std\"],numeric_only = True)"
   ]
  },
  {
   "cell_type": "code",
   "execution_count": null,
   "id": "6e26dec3",
   "metadata": {},
   "outputs": [],
   "source": [
    "df.agg({\"col_1\":\"mean\"})\n",
    "df.agg({\"col_1\":[\"mean\",\"sum\"],\"col_2\":[\"mean\",\"median\"]})"
   ]
  },
  {
   "cell_type": "markdown",
   "id": "bfbffcd4",
   "metadata": {},
   "source": [
    "### `drop()` & `dropna()` & `fillna()` & `isna()`"
   ]
  },
  {
   "cell_type": "code",
   "execution_count": null,
   "id": "09071bfa",
   "metadata": {},
   "outputs": [],
   "source": [
    "df.drop(columns = \"col_2\") # Remove columns (implicit)\n",
    "df.drop(labels = \"col_2\", axis = 1) # Remove columns (explicit)\n",
    "df.drop(labels = [0,2], axis = 0) # Rows can be dropped by changing the axis to 0"
   ]
  },
  {
   "cell_type": "code",
   "execution_count": null,
   "id": "5c1389be",
   "metadata": {},
   "outputs": [],
   "source": [
    "df.isna() # Show which cells are empty\n",
    "df.isna().sum() "
   ]
  },
  {
   "cell_type": "code",
   "execution_count": null,
   "id": "925ec2b4",
   "metadata": {},
   "outputs": [],
   "source": [
    "df.dropna() # Remove nan-values"
   ]
  },
  {
   "cell_type": "code",
   "execution_count": null,
   "id": "b9377ad0",
   "metadata": {
    "scrolled": true
   },
   "outputs": [],
   "source": [
    "df.col_2.fillna(df.col_2.mean()) # Mean value of column\n",
    "df.fillna(method=\"ffill\") # ffill: propagate last valid observation forward to next valid backfill"
   ]
  },
  {
   "cell_type": "markdown",
   "id": "b4e21803",
   "metadata": {},
   "source": [
    "### `corr()`"
   ]
  },
  {
   "cell_type": "code",
   "execution_count": null,
   "id": "155582f6",
   "metadata": {},
   "outputs": [],
   "source": [
    "df.corr()"
   ]
  },
  {
   "cell_type": "markdown",
   "id": "fbf05176",
   "metadata": {},
   "source": [
    "## Series & index object methods\n",
    "`.head()`, `.sort_values()`, `value_counts()`, `sort_index()`\n",
    "\n",
    "`.unique()`, `nunique()`\n",
    "\n",
    "`nlargest()`, `nsmallest()`, `idxmax()`\n",
    "\n",
    "`upper()`, `lower()`\n",
    "\n",
    "`astype()`, `apply()`, `map()`, `pd.cut()`, `pd.qcut()`\n",
    "\n",
    "`replace()`"
   ]
  },
  {
   "cell_type": "code",
   "execution_count": null,
   "id": "65bad39b",
   "metadata": {},
   "outputs": [],
   "source": [
    "my_series = df.col_1 # Alt 1\n",
    "my_series = df[\"col_1\"] # Alt 1"
   ]
  },
  {
   "cell_type": "code",
   "execution_count": null,
   "id": "adeea655",
   "metadata": {},
   "outputs": [],
   "source": [
    "my_series.head()\n",
    "my_series.sort_values(ascending=True) # Compare df.sort_values(\"col_1\")\n",
    "my_series.value_counts()\n",
    "my_series.value_counts(normalize = True)\n",
    "my_series.value_counts(normalize = True, bins=5)\n",
    "my_series.sort_index()"
   ]
  },
  {
   "cell_type": "code",
   "execution_count": null,
   "id": "4cb78c87",
   "metadata": {},
   "outputs": [],
   "source": [
    "# Unique values and number of unique values\n",
    "my_series.unique()\n",
    "my_series.nunique()"
   ]
  },
  {
   "cell_type": "markdown",
   "id": "7a501380",
   "metadata": {},
   "source": [
    "### `astype()`"
   ]
  },
  {
   "cell_type": "code",
   "execution_count": null,
   "id": "9c191fc9",
   "metadata": {},
   "outputs": [],
   "source": [
    "my_series.astype(\"object\")\n",
    "my_series.astype(\"int\")"
   ]
  },
  {
   "cell_type": "code",
   "execution_count": null,
   "id": "3599fe7e",
   "metadata": {},
   "outputs": [],
   "source": [
    "df.select_dtypes(include=[\"bool\",\"object\",\"category\"]).columns"
   ]
  },
  {
   "cell_type": "markdown",
   "id": "fb1c4e81",
   "metadata": {},
   "source": [
    "### `apply()` & `map()`"
   ]
  },
  {
   "cell_type": "code",
   "execution_count": null,
   "id": "5d5be959",
   "metadata": {},
   "outputs": [],
   "source": [
    "# Applies function to series\n",
    "df[\"age\"] = df.col_1.apply(lambda x: \"child\" if x<15 else \"adult\")"
   ]
  },
  {
   "cell_type": "code",
   "execution_count": null,
   "id": "da89caf7",
   "metadata": {},
   "outputs": [],
   "source": [
    "dct = {1:\"1st class\",2:\"2nd class\",3:\"3rd class\"}\n",
    "df[\"classes\"] = df.col_1.map(dct)"
   ]
  },
  {
   "cell_type": "code",
   "execution_count": null,
   "id": "4e6e9a77",
   "metadata": {},
   "outputs": [],
   "source": [
    "df"
   ]
  },
  {
   "cell_type": "markdown",
   "id": "9253ac5a",
   "metadata": {},
   "source": [
    "### `pd.cut()` & `pd.qcut()`"
   ]
  },
  {
   "cell_type": "code",
   "execution_count": null,
   "id": "408e5373",
   "metadata": {},
   "outputs": [],
   "source": [
    "# can set number of bins to bury values within\n",
    "pd.cut(df.col_1, bins = 5)\n",
    "pd.cut(df.col_1, bins = [0,25,50,75,100])\n",
    "pd.cut(df.col_1, bins = [0,25,50,75,100],labels=[\"youngsters\",\"middle age\",\"old\",\"very old\"])"
   ]
  },
  {
   "cell_type": "code",
   "execution_count": null,
   "id": "533b25c7",
   "metadata": {},
   "outputs": [],
   "source": [
    "pd.qcut(df.col_1,q=[0,.25,.75,.9,1],labels=[\"cheap\",\"low price\",\"average price\",\"expensive\"])"
   ]
  },
  {
   "cell_type": "markdown",
   "id": "5abdcfdc",
   "metadata": {},
   "source": [
    "### `replace()`"
   ]
  },
  {
   "cell_type": "code",
   "execution_count": null,
   "id": "39d883fb",
   "metadata": {},
   "outputs": [],
   "source": [
    "df.Medal=df.Medal.replace(to_replace=\"Gold Medal\",value = \"Gold\")"
   ]
  },
  {
   "cell_type": "code",
   "execution_count": null,
   "id": "df1e435a",
   "metadata": {},
   "outputs": [],
   "source": [
    "# If colmn dtype is category new items not already present must be added before using .replace\n",
    "df[\"deck\"] = df[\"deck\"].cat.add_categories(\"Unknown\")\n",
    "df[\"deck\"] = df[\"deck\"].fillna(\"Unknown\")"
   ]
  },
  {
   "cell_type": "markdown",
   "id": "1529dde9",
   "metadata": {},
   "source": [
    "## Method chaining"
   ]
  },
  {
   "cell_type": "code",
   "execution_count": null,
   "id": "3f1ad398",
   "metadata": {},
   "outputs": [],
   "source": [
    "df[\"col_1\"].value_counts().sort_index().plot(kind=\"bar\")"
   ]
  },
  {
   "cell_type": "markdown",
   "id": "146aa39a",
   "metadata": {},
   "source": [
    "## Index objects"
   ]
  },
  {
   "cell_type": "markdown",
   "id": "2cdd0f58",
   "metadata": {},
   "source": [
    "### Range Index"
   ]
  },
  {
   "cell_type": "code",
   "execution_count": null,
   "id": "c2f24898",
   "metadata": {},
   "outputs": [],
   "source": [
    "df.index.values"
   ]
  },
  {
   "cell_type": "markdown",
   "id": "1cc79ea7",
   "metadata": {},
   "source": [
    "### `reset_index()`, `sort_index()`, `set_index()`"
   ]
  },
  {
   "cell_type": "code",
   "execution_count": null,
   "id": "31536082",
   "metadata": {},
   "outputs": [],
   "source": [
    "# drop = True menar att det gamla index skrivs över\n",
    "# inplace = True innebär att ändringar sparas till df\n",
    "\n",
    "df.reset_index(drop=True, inplace = True)\n",
    "df.sort_index(inplace=True)\n",
    "df.set_index([\"col_3\",\"col_4\"], inplace = True)"
   ]
  },
  {
   "cell_type": "markdown",
   "id": "8ae2eb2d",
   "metadata": {},
   "source": [
    "### `loc[]` & `iloc[]`"
   ]
  },
  {
   "cell_type": "code",
   "execution_count": null,
   "id": "e685606e",
   "metadata": {},
   "outputs": [],
   "source": [
    "# Row index and column name(s)\n",
    "df.loc[0]\n",
    "df.loc[0,\"col_1\"]\n",
    "df.loc[0:1,[\"col_1\",\"col_2\"]]\n",
    "df.loc[0:1,:] # All columns"
   ]
  },
  {
   "cell_type": "code",
   "execution_count": null,
   "id": "ae0c2944",
   "metadata": {},
   "outputs": [],
   "source": [
    "# Row index and column index\n",
    "df.iloc[0,2]\n",
    "df.iloc[:,[0,1]] # All rows\n",
    "df.iloc[0:2,0:2]"
   ]
  },
  {
   "cell_type": "markdown",
   "id": "1f1a165d",
   "metadata": {},
   "source": [
    "### `loc[]` & `iloc[]` with conditions\n",
    "When filtering you can use any operation/expression/method that evaluates to True/False. \n",
    "\n",
    "Common comparison operators:\n",
    "\n",
    "`==`, `>`, `<`, `between()`, `isin()`\n",
    "\n",
    "Common logical operators:\n",
    "\n",
    "`&` (AND), `~` (NOT), `|` (OR) "
   ]
  },
  {
   "cell_type": "code",
   "execution_count": null,
   "id": "b9a744a5",
   "metadata": {},
   "outputs": [],
   "source": [
    "cond1 = df[\"col_1\"]>=1\n",
    "cond2 = df.col_1.between(1,2)\n",
    "cond3 = df.col_1.isin([1,3])\n",
    "df.loc[cond3,:]"
   ]
  },
  {
   "cell_type": "code",
   "execution_count": null,
   "id": "a346cc96",
   "metadata": {},
   "outputs": [],
   "source": [
    "df.loc[cond2 & cond3,:]"
   ]
  },
  {
   "cell_type": "markdown",
   "id": "388a8d95",
   "metadata": {},
   "source": [
    "### Avoid chained indexing !!"
   ]
  },
  {
   "cell_type": "code",
   "execution_count": null,
   "id": "16549e81",
   "metadata": {},
   "outputs": [],
   "source": [
    "# When setting values in a pandas object, care must be taken to avoid what is called chained indexing.\n",
    "# Below is an example of chained indexing\n",
    "\n",
    "titanic.loc[18][\"age\"] = 20"
   ]
  },
  {
   "cell_type": "code",
   "execution_count": null,
   "id": "2753d3c4",
   "metadata": {},
   "outputs": [],
   "source": [
    "# Better way to update single value or multiple values\n",
    "titanic.loc[18,\"age\"] = 20\n",
    "titanic.loc[[2,3],\"age\"] = [12,13]"
   ]
  },
  {
   "cell_type": "markdown",
   "id": "367cba78",
   "metadata": {},
   "source": [
    "### Multiindex\n",
    "`set_index()`, `swaplevel()`, `unstack()`, `T`"
   ]
  },
  {
   "cell_type": "code",
   "execution_count": null,
   "id": "746e386d",
   "metadata": {},
   "outputs": [],
   "source": [
    "df.info()"
   ]
  },
  {
   "cell_type": "code",
   "execution_count": null,
   "id": "b6e998f2",
   "metadata": {},
   "outputs": [],
   "source": [
    "# Sets multiindex\n",
    "df.set_index([\"col_3\",\"col_4\"], inplace = True)"
   ]
  },
  {
   "cell_type": "code",
   "execution_count": null,
   "id": "ef459c1b",
   "metadata": {},
   "outputs": [],
   "source": [
    "df.sort_index(inplace=True)\n",
    "df"
   ]
  },
  {
   "cell_type": "code",
   "execution_count": null,
   "id": "e1abd9e1",
   "metadata": {},
   "outputs": [],
   "source": [
    "# Use double [] when selecting for multiple conditions\n",
    "\n",
    "df.loc[[(\"dos\",\"dos\"),(\"tres\",\"tres\")]]"
   ]
  },
  {
   "cell_type": "code",
   "execution_count": null,
   "id": "72843178",
   "metadata": {},
   "outputs": [],
   "source": [
    "df.swaplevel().unstack() # Swap index order and unstack last index"
   ]
  },
  {
   "cell_type": "code",
   "execution_count": null,
   "id": "7ca20925",
   "metadata": {},
   "outputs": [],
   "source": [
    "# Transpose\n",
    "df.T"
   ]
  },
  {
   "cell_type": "code",
   "execution_count": null,
   "id": "bc3ebf8c",
   "metadata": {},
   "outputs": [],
   "source": [
    "# Swap level order\n",
    "stocks.swaplevel(axis=1).sort_index(axis=1)"
   ]
  },
  {
   "cell_type": "markdown",
   "id": "714a26fe",
   "metadata": {},
   "source": [
    "## String Operation & Numerical Operations in Pandas"
   ]
  },
  {
   "cell_type": "markdown",
   "id": "256b6a68",
   "metadata": {},
   "source": [
    "### String Operations\n",
    ".str is a vectorized string functions for Series and Index\n",
    "\n",
    "`str.upper()`, `str.lower()`, `str.title()`, `str.capitalize()`\n",
    "\n",
    "`str.split()`, `str.cat()`, `.replace(\"kr\",\"\")`\n",
    "\n",
    "`str.extract()`\n",
    "\n",
    "`nunique()`, `unique()`\n",
    "\n",
    "`astype(\"str\")`\n",
    "\n",
    "Series / index object need to be formated as objects before using .str"
   ]
  },
  {
   "cell_type": "code",
   "execution_count": 68,
   "id": "af15ab55",
   "metadata": {},
   "outputs": [],
   "source": [
    "sample = {\n",
    "'col_a':['Houston,TX', 'Dallas,TX', 'Chicago,IL', 'Phoenix,AZ',      'San Diego,CA'],\n",
    "'col_b':['no: (1511)', 'no: (007)', 'no: (333)', 'no: (135)', 'no: (7833)' ],\n",
    "'col_c':['A','B','C','D','E'],\n",
    "'col_d':['a', 'b', 'c', 'd', 'e']\n",
    "}\n",
    "df = pd.DataFrame(sample)"
   ]
  },
  {
   "cell_type": "code",
   "execution_count": null,
   "id": "f96aebba",
   "metadata": {},
   "outputs": [],
   "source": [
    "df[\"col_a\"].str.upper()\n",
    "df[\"col_a\"].str.title()\n",
    "df[\"col_a\"].str.capitalize()"
   ]
  },
  {
   "cell_type": "code",
   "execution_count": null,
   "id": "d8aa91b3",
   "metadata": {},
   "outputs": [],
   "source": [
    "df[\"col_a\"].str.replace(\",\",\"__\")"
   ]
  },
  {
   "cell_type": "code",
   "execution_count": null,
   "id": "fc89e426",
   "metadata": {},
   "outputs": [],
   "source": [
    "# Split\n",
    "df[[\"city\",\"state\"]] = df[\"col_a\"].str.split(\",\",expand=True)"
   ]
  },
  {
   "cell_type": "code",
   "execution_count": null,
   "id": "8b00e477",
   "metadata": {},
   "outputs": [],
   "source": [
    "# Concatenate strings\n",
    "df[\"city\"].str.cat(df[\"state\"],sep=\", \")"
   ]
  },
  {
   "cell_type": "code",
   "execution_count": 70,
   "id": "2823c244",
   "metadata": {},
   "outputs": [],
   "source": [
    "# Extraction of numbers\n",
    "df[\"nr_1\"] = df[\"col_b\"].str.extract(r\"(\\d+)\").astype(\"int\")\n",
    "#df[\"col_b\"].astype(\"str\").str.extract(r\"(\\d+)\").astype(\"int\") IF \"col_b\" is not formated as object"
   ]
  },
  {
   "cell_type": "markdown",
   "id": "278e28ce",
   "metadata": {},
   "source": [
    "### Numerical operations\n",
    "`agg()`, `mean()`, `median()`, `sum()`, `std()`, `min()`, `max()`, `size`\n",
    "\n",
    "`idxmax()`\n",
    "\n",
    "`nlargest()`, `nsmallest()`\n",
    "\n",
    "`abs()`\n",
    "\n",
    "`astype(\"int\")`"
   ]
  },
  {
   "cell_type": "code",
   "execution_count": 54,
   "id": "4e975997",
   "metadata": {},
   "outputs": [],
   "source": [
    "# We can make vectorized operations without having to write for loops\n",
    "df[\"nr_2\"] = 1912-df.nr_1"
   ]
  },
  {
   "cell_type": "code",
   "execution_count": null,
   "id": "fe6997d3",
   "metadata": {},
   "outputs": [],
   "source": [
    "df.nr_1 * 10**2*df.nr_2\n",
    "df.nr_1 + df.nr_2"
   ]
  },
  {
   "cell_type": "code",
   "execution_count": null,
   "id": "2c2c71e9",
   "metadata": {},
   "outputs": [],
   "source": [
    "df.nr_1.nlargest()\n",
    "df.nr_1.nsmallest()"
   ]
  },
  {
   "cell_type": "code",
   "execution_count": 56,
   "id": "eeef516b",
   "metadata": {},
   "outputs": [
    {
     "data": {
      "text/plain": [
       "5"
      ]
     },
     "execution_count": 56,
     "metadata": {},
     "output_type": "execute_result"
    }
   ],
   "source": [
    "# Aggregation functions\n",
    "df.nr_1.mean()\n",
    "df.nr_1.sum()\n",
    "df.nr_1.std()\n",
    "df.nr_1.size\n",
    "\n",
    "df.nr_1.agg([\"min\", \"max\", \"median\"])"
   ]
  },
  {
   "cell_type": "code",
   "execution_count": 71,
   "id": "f46d1894",
   "metadata": {},
   "outputs": [
    {
     "data": {
      "text/plain": [
       "4"
      ]
     },
     "execution_count": 71,
     "metadata": {},
     "output_type": "execute_result"
    }
   ],
   "source": [
    "# Get id of max\n",
    "df.nr_1.idxmax()"
   ]
  },
  {
   "cell_type": "code",
   "execution_count": null,
   "id": "bc954302",
   "metadata": {},
   "outputs": [],
   "source": [
    "# Normalizing stock prices\n",
    "close / close.iloc[0] * 100 # Easy to understand\n",
    "norm = close.div(close.iloc[0]).mul(100) # Better practice, faster"
   ]
  },
  {
   "cell_type": "markdown",
   "id": "daa912bc",
   "metadata": {},
   "source": [
    "## GroupBy\n",
    "\n",
    "`groupby()`, `unstack()`, `pivot()`, `T`, `pivot_table()`, `crosstab()`, `melt()`"
   ]
  },
  {
   "cell_type": "markdown",
   "id": "c9e1a941",
   "metadata": {},
   "source": [
    "### Basic group by operations\n",
    "df + groupby + column + column aggregation"
   ]
  },
  {
   "cell_type": "code",
   "execution_count": 3,
   "id": "f5e92c17",
   "metadata": {},
   "outputs": [],
   "source": [
    "data = {\"BoyOrGirl\":[\"Boy\",\"Boy\",\"Boy\", \"Girl\", \"Boy\", \"Girl\", \"Boy\",\"Boy\",\"Girl\",\"Girl\", \"Boy\",\"Boy\"],\n",
    "       \"TestScore1\":[25,94,57,62,70,25,94,57,62,70,62,70],\n",
    "       \"TestScore2\":[125,194,157,162,170,125,194,157,162,170,162,170],\n",
    "       \"TestScore3\":[125,194,157,162,170,125,194,157,162,170,162,170]}\n",
    "df = pd.DataFrame(data)"
   ]
  },
  {
   "cell_type": "code",
   "execution_count": 4,
   "id": "8d734855",
   "metadata": {},
   "outputs": [
    {
     "data": {
      "text/html": [
       "<div>\n",
       "<style scoped>\n",
       "    .dataframe tbody tr th:only-of-type {\n",
       "        vertical-align: middle;\n",
       "    }\n",
       "\n",
       "    .dataframe tbody tr th {\n",
       "        vertical-align: top;\n",
       "    }\n",
       "\n",
       "    .dataframe thead th {\n",
       "        text-align: right;\n",
       "    }\n",
       "</style>\n",
       "<table border=\"1\" class=\"dataframe\">\n",
       "  <thead>\n",
       "    <tr style=\"text-align: right;\">\n",
       "      <th></th>\n",
       "      <th>mean</th>\n",
       "      <th>median</th>\n",
       "      <th>min</th>\n",
       "      <th>max</th>\n",
       "    </tr>\n",
       "    <tr>\n",
       "      <th>BoyOrGirl</th>\n",
       "      <th></th>\n",
       "      <th></th>\n",
       "      <th></th>\n",
       "      <th></th>\n",
       "    </tr>\n",
       "  </thead>\n",
       "  <tbody>\n",
       "    <tr>\n",
       "      <th>Boy</th>\n",
       "      <td>66.125</td>\n",
       "      <td>66.0</td>\n",
       "      <td>25</td>\n",
       "      <td>94</td>\n",
       "    </tr>\n",
       "    <tr>\n",
       "      <th>Girl</th>\n",
       "      <td>54.750</td>\n",
       "      <td>62.0</td>\n",
       "      <td>25</td>\n",
       "      <td>70</td>\n",
       "    </tr>\n",
       "  </tbody>\n",
       "</table>\n",
       "</div>"
      ],
      "text/plain": [
       "             mean  median  min  max\n",
       "BoyOrGirl                          \n",
       "Boy        66.125    66.0   25   94\n",
       "Girl       54.750    62.0   25   70"
      ]
     },
     "execution_count": 4,
     "metadata": {},
     "output_type": "execute_result"
    }
   ],
   "source": [
    "# On a single result column\n",
    "df.groupby(\"BoyOrGirl\")[\"TestScore1\"].mean()\n",
    "df.groupby(\"BoyOrGirl\")[\"TestScore1\"].agg([\"mean\",\"median\",\"min\",\"max\"])"
   ]
  },
  {
   "cell_type": "code",
   "execution_count": 79,
   "id": "5ce1bd82",
   "metadata": {},
   "outputs": [
    {
     "data": {
      "text/html": [
       "<div>\n",
       "<style scoped>\n",
       "    .dataframe tbody tr th:only-of-type {\n",
       "        vertical-align: middle;\n",
       "    }\n",
       "\n",
       "    .dataframe tbody tr th {\n",
       "        vertical-align: top;\n",
       "    }\n",
       "\n",
       "    .dataframe thead th {\n",
       "        text-align: right;\n",
       "    }\n",
       "</style>\n",
       "<table border=\"1\" class=\"dataframe\">\n",
       "  <thead>\n",
       "    <tr style=\"text-align: right;\">\n",
       "      <th></th>\n",
       "      <th>TestScore1</th>\n",
       "      <th>TestScore2</th>\n",
       "    </tr>\n",
       "    <tr>\n",
       "      <th>BoyOrGirl</th>\n",
       "      <th></th>\n",
       "      <th></th>\n",
       "    </tr>\n",
       "  </thead>\n",
       "  <tbody>\n",
       "    <tr>\n",
       "      <th>Boy</th>\n",
       "      <td>66.125</td>\n",
       "      <td>194</td>\n",
       "    </tr>\n",
       "    <tr>\n",
       "      <th>Girl</th>\n",
       "      <td>54.750</td>\n",
       "      <td>170</td>\n",
       "    </tr>\n",
       "  </tbody>\n",
       "</table>\n",
       "</div>"
      ],
      "text/plain": [
       "           TestScore1  TestScore2\n",
       "BoyOrGirl                        \n",
       "Boy            66.125         194\n",
       "Girl           54.750         170"
      ]
     },
     "execution_count": 79,
     "metadata": {},
     "output_type": "execute_result"
    }
   ],
   "source": [
    "# On multiple result columns\n",
    "df.groupby(\"BoyOrGirl\")[[\"TestScore1\",\"TestScore2\"]].mean()\n",
    "df.groupby(\"BoyOrGirl\").agg({\"TestScore1\":\"mean\",\"TestScore2\":\"max\"}) # Best!"
   ]
  },
  {
   "cell_type": "code",
   "execution_count": null,
   "id": "982b4218",
   "metadata": {},
   "outputs": [],
   "source": [
    "# On multiple columns\n",
    "df.groupby([\"BoyOrGirl\",\"TestScore1\"]).mean()"
   ]
  },
  {
   "cell_type": "markdown",
   "id": "e5c3d4b2",
   "metadata": {},
   "source": [
    "### `unstack()`"
   ]
  },
  {
   "cell_type": "code",
   "execution_count": 84,
   "id": "6b28911e",
   "metadata": {},
   "outputs": [
    {
     "data": {
      "text/html": [
       "<div>\n",
       "<style scoped>\n",
       "    .dataframe tbody tr th:only-of-type {\n",
       "        vertical-align: middle;\n",
       "    }\n",
       "\n",
       "    .dataframe tbody tr th {\n",
       "        vertical-align: top;\n",
       "    }\n",
       "\n",
       "    .dataframe thead th {\n",
       "        text-align: right;\n",
       "    }\n",
       "</style>\n",
       "<table border=\"1\" class=\"dataframe\">\n",
       "  <thead>\n",
       "    <tr style=\"text-align: right;\">\n",
       "      <th>TestScore1</th>\n",
       "      <th>25</th>\n",
       "      <th>57</th>\n",
       "      <th>62</th>\n",
       "      <th>70</th>\n",
       "      <th>94</th>\n",
       "    </tr>\n",
       "    <tr>\n",
       "      <th>BoyOrGirl</th>\n",
       "      <th></th>\n",
       "      <th></th>\n",
       "      <th></th>\n",
       "      <th></th>\n",
       "      <th></th>\n",
       "    </tr>\n",
       "  </thead>\n",
       "  <tbody>\n",
       "    <tr>\n",
       "      <th>Boy</th>\n",
       "      <td>125.0</td>\n",
       "      <td>157.0</td>\n",
       "      <td>162.0</td>\n",
       "      <td>170.0</td>\n",
       "      <td>194.0</td>\n",
       "    </tr>\n",
       "    <tr>\n",
       "      <th>Girl</th>\n",
       "      <td>125.0</td>\n",
       "      <td>NaN</td>\n",
       "      <td>162.0</td>\n",
       "      <td>170.0</td>\n",
       "      <td>NaN</td>\n",
       "    </tr>\n",
       "  </tbody>\n",
       "</table>\n",
       "</div>"
      ],
      "text/plain": [
       "TestScore1     25     57     62     70     94\n",
       "BoyOrGirl                                    \n",
       "Boy         125.0  157.0  162.0  170.0  194.0\n",
       "Girl        125.0    NaN  162.0  170.0    NaN"
      ]
     },
     "execution_count": 84,
     "metadata": {},
     "output_type": "execute_result"
    }
   ],
   "source": [
    "df.groupby([\"BoyOrGirl\",\"TestScore1\"]).TestScore2.mean().unstack()\n",
    "df.groupby([\"BoyOrGirl\",\"TestScore1\"]).TestScore2.mean().unstack(-2)"
   ]
  },
  {
   "cell_type": "markdown",
   "id": "fde6db40",
   "metadata": {},
   "source": [
    "### `pivot_table()`\n",
    "\n",
    "- more powerful alternative to pivot\n",
    "- commonly used in excel\n",
    "- everything we can do with pivot_table can be done with a combo of groupby, unstack and Transpose"
   ]
  },
  {
   "cell_type": "code",
   "execution_count": null,
   "id": "5cf66dbc",
   "metadata": {},
   "outputs": [],
   "source": [
    "ut =df.pivot_table(values=\"Count\",index=\"Country\",\n",
    "                   columns=\"Medal\",aggfunc='sum',\n",
    "                   fill_value=0,margins=True,\n",
    "                   dropna=True,margins_name='Total medals')"
   ]
  },
  {
   "cell_type": "markdown",
   "id": "77a563ba",
   "metadata": {},
   "source": [
    "### `crosstab()`"
   ]
  },
  {
   "cell_type": "code",
   "execution_count": null,
   "id": "c54336e3",
   "metadata": {},
   "outputs": [],
   "source": [
    "pd.crosstab(index=titanic.sex,columns=titanic.pclass,values=titanic.fare,aggfunc=\"sum\",normalize=True)"
   ]
  },
  {
   "cell_type": "markdown",
   "id": "2d0abb5c",
   "metadata": {},
   "source": [
    "### `pivot()`"
   ]
  },
  {
   "cell_type": "code",
   "execution_count": null,
   "id": "c3140f5c",
   "metadata": {},
   "outputs": [],
   "source": [
    "# Turns values of selected column into new column names\n",
    "df.pivot(index=\"Country\",columns=\"Medal\",values=\"Count\").fillna(0).astype(\"int\")"
   ]
  },
  {
   "cell_type": "markdown",
   "id": "11b24583",
   "metadata": {},
   "source": [
    "### `melt()`"
   ]
  },
  {
   "cell_type": "code",
   "execution_count": null,
   "id": "45c4a4bb",
   "metadata": {},
   "outputs": [],
   "source": [
    "# Reverse pivot()\n",
    "table2012.melt(id_vars=\"Country\",value_vars=[\"Gold\",\"Silver\",\"Bronze\"],\n",
    "               var_name=\"Medals\",value_name=\"Count\")"
   ]
  },
  {
   "cell_type": "markdown",
   "id": "6f7a7a07",
   "metadata": {},
   "source": [
    "## Joining DataFrames with `merge` and `concat`"
   ]
  },
  {
   "cell_type": "markdown",
   "id": "e093cf05",
   "metadata": {},
   "source": [
    "### `concat()`"
   ]
  },
  {
   "cell_type": "code",
   "execution_count": null,
   "id": "148217d7",
   "metadata": {},
   "outputs": [],
   "source": [
    "# Keys are used to differentiate rows on origin\n",
    "pd.concat([men2004,men2008],ignore_index=False,keys=[2004,2008],axis=0)\n",
    "pd.concat([men2004,men2008],ignore_index=False,keys=[\"Athens\",\"Bejing\"],axis=0,names=[\"city\"])"
   ]
  },
  {
   "cell_type": "code",
   "execution_count": null,
   "id": "a8303d3c",
   "metadata": {},
   "outputs": [],
   "source": [
    "# Often when concatenating, we have tables with differening colnames And perhaps an additional column for one of\n",
    "# Begin with renaming columns such that both tables match\n",
    "men0408.reset_index().drop(columns=\"level_1\")\n",
    "men2004.columns =[\"Name\", \"Medals\"]\n",
    "men2004.columns = men2008.columns"
   ]
  },
  {
   "cell_type": "markdown",
   "id": "19eb5d7e",
   "metadata": {},
   "source": [
    "### `merge()`"
   ]
  },
  {
   "cell_type": "code",
   "execution_count": null,
   "id": "7726ef71",
   "metadata": {},
   "outputs": [],
   "source": [
    "# How {‘left’, ‘right’, ‘outer’, ‘inner’, ‘cross’}, default ‘inner’\n",
    "men0408 = men2004.merge(men2008,how=\"outer\",on=\"Athlete\",\n",
    "                        suffixes = (\"_2004\", \"_2008\"),indicator=True)\n",
    "\n",
    "# If dataframes have primary columns with different names (will produce additional columns - avoid!)\n",
    "men0408 = men2004.merge(men2008,how=\"outer\",left_on=\"Name\",right_on=\"Athlete\",\n",
    "                        suffixes = ('_2004', '_2008'),indicator=True,)"
   ]
  },
  {
   "cell_type": "code",
   "execution_count": null,
   "id": "a450fc82",
   "metadata": {},
   "outputs": [],
   "source": [
    "# With indicator = True\n",
    "men0408.loc[men0408._merge == \"both\"].shape # Into inner join\n",
    "men0408.loc[men0408._merge.isin([\"both\",\"left_only\"])].shape # Into left join\n",
    "men0408.loc[men0408._merge != \"both\"].shape # Into outer join without inner join"
   ]
  },
  {
   "cell_type": "markdown",
   "id": "b38aa074",
   "metadata": {},
   "source": [
    "## Managing time series"
   ]
  },
  {
   "cell_type": "markdown",
   "id": "7d20aaf1",
   "metadata": {},
   "source": [
    "### Datetime attributes\n",
    "\n",
    "`day`, `month`, `year`"
   ]
  },
  {
   "cell_type": "code",
   "execution_count": null,
   "id": "1dde02e2",
   "metadata": {},
   "outputs": [],
   "source": [
    "close.index\n",
    "close.index.day\n",
    "close.index.month"
   ]
  },
  {
   "cell_type": "markdown",
   "id": "2c64e8b5",
   "metadata": {},
   "source": [
    "### Datetime methods\n",
    "\n",
    "`day_name`\n",
    "\n",
    "`resample()`, `shift()`, `diff()` & `pct_change`\n",
    "\n",
    "`reindex()`\n",
    "\n",
    "`interpolate()`, `fillna()`"
   ]
  },
  {
   "cell_type": "code",
   "execution_count": null,
   "id": "bc69f84c",
   "metadata": {},
   "outputs": [],
   "source": [
    "# Name of day\n",
    "close.index.day_name()"
   ]
  },
  {
   "cell_type": "code",
   "execution_count": null,
   "id": "4fbd375f",
   "metadata": {},
   "outputs": [],
   "source": [
    "# Downsample with resample\n",
    "temp.resample(\"D\").first().round(2)\n",
    "temp.resample(\"D\").last().round(2)\n",
    "temp.resample(\"D\").mean().round(2)\n",
    "temp.resample(\"W\").mean().describe()"
   ]
  },
  {
   "cell_type": "code",
   "execution_count": null,
   "id": "21267976",
   "metadata": {},
   "outputs": [],
   "source": [
    "temp.resample(\"M\",kind=\"timestamp\").mean() # TImestamp: 2013-01-28\n",
    "temp.resample(\"M\",kind=\"period\").mean() # Period: 2013-01"
   ]
  },
  {
   "cell_type": "code",
   "execution_count": null,
   "id": "4bdea1d1",
   "metadata": {},
   "outputs": [],
   "source": [
    "# Shift index by desired number of periods with an optional time freq.\n",
    "amzn.shift(periods=1)\n",
    "\n",
    "# Difference between dataframe element compared to previous n:th (=periods) element\n",
    "amzn.AMZN.diff(periods=1)\n",
    "\n",
    "# Percentage change between the current and a prior element\n",
    "amzn.AMZN.pct_change(periods=1)"
   ]
  },
  {
   "cell_type": "code",
   "execution_count": null,
   "id": "a7076d03",
   "metadata": {},
   "outputs": [],
   "source": [
    "# Reindex with datetimeindex, may leave null-values\n",
    "all_days = pd.date_range(start=\"2014-12-31\", end=\"2022-05-02\",freq=\"D\")\n",
    "close = close.reindex(all_days)"
   ]
  },
  {
   "cell_type": "code",
   "execution_count": null,
   "id": "d84eb86d",
   "metadata": {},
   "outputs": [],
   "source": [
    "# Replace null-values with interpolated values\n",
    "close.interpolate()\n",
    "close.interpolate(method=\"linear\",limit=2) # Linear interpolation, max 2 nans in a row are filled in\n",
    "close.interpolate(method='polynomial', order=2)"
   ]
  },
  {
   "cell_type": "code",
   "execution_count": null,
   "id": "d28e2001",
   "metadata": {},
   "outputs": [],
   "source": [
    "# Replace null-values with other valid values\n",
    "close.fillna(method=\"ffill\",inplace=True) # ffill: propagate last valid observation forward to next valid backfill\n",
    "close.fillna(method=\"bfill\",inplace=True) # bfill: use next valid observation to fill gap"
   ]
  },
  {
   "cell_type": "code",
   "execution_count": null,
   "id": "348acaf1",
   "metadata": {},
   "outputs": [],
   "source": [
    "# Tells frequency of datetime column, no output if varying frequency\n",
    "lst3 = [pd.to_datetime(\"2015-05-02 11:20:21\"),\n",
    "        pd.to_datetime(\"2015-05-02 12:20:21\"),\n",
    "        pd.to_datetime(\"2015-05-02 13:20:21\"),\n",
    "        pd.to_datetime(\"2015-05-02 14:20:21\")\n",
    "       ]\n",
    "d = {\"col_1\":[1,2,3,3],\"col_2\":[11,22,33,3],\"tid\":lst3}\n",
    "df3 = pd.DataFrame(data = d)\n",
    "\n",
    "pd.infer_freq(df3.tid)"
   ]
  },
  {
   "cell_type": "markdown",
   "id": "561a72d3",
   "metadata": {},
   "source": [
    "### Create datetime and datetimeindex\n",
    "\n",
    "`to_datetime()`, `date_range()`\n",
    "\n",
    "Offset aliases: https://pandas.pydata.org/pandas-docs/stable/user_guide/timeseries.html#timeseries-offset-aliases\n",
    "\n",
    "Always remember that weeks starting at sunday is a thing! "
   ]
  },
  {
   "cell_type": "code",
   "execution_count": null,
   "id": "2c80b058",
   "metadata": {},
   "outputs": [],
   "source": [
    "# Create datetime from string\n",
    "pd.to_datetime(\"2015-05-02 10:20:21\")\n",
    "pd.to_datetime([\"17th May 2012\", \"Feb 20 2019\", \"2002/01-01\"])\n",
    "pd.to_datetime([\"17th May 2012\", \"Feb 20 2019\", \"2002/01-01\",\"Elephant\"],errors=\"coerce\")"
   ]
  },
  {
   "cell_type": "code",
   "execution_count": null,
   "id": "eace7eae",
   "metadata": {},
   "outputs": [],
   "source": [
    "# Create custom datetimeindex\n",
    "pd.date_range(start = \"2012-07-02\", end = \"2012-12-12\", freq = \"D\")\n",
    "pd.date_range(start = \"2012-07-02\", periods = 31, freq = \"B\") # Next buissness day\n",
    "pd.date_range(start = \"2012-07-02\", periods = 31, freq = \"W\")\n",
    "pd.date_range(start = \"2012-07-02\", periods = 31, freq = \"W-MON\") # Death to america!\n",
    "pd.date_range(start = \"2012-07-02\", periods = 31, freq = \"MS\") # Start of month\n",
    "pd.date_range(start = \"2015-07-25\", periods = 12, freq = \"QS\") # Quarter start frequency\n",
    "pd.date_range(start = \"2015-07-25\", periods = 12, freq = \"AS-Apr\") # Annual frequency, anchored start of April\n",
    "pd.date_range(start = \"2015-07-25\", periods = 12, freq = \"BS-Apr\") # Annual frequency, anchored end of April\n",
    "pd.date_range(end = \"2022-04-20\", periods = 28, freq = \"3D7H\")"
   ]
  },
  {
   "cell_type": "code",
   "execution_count": null,
   "id": "7ee5742f",
   "metadata": {},
   "outputs": [],
   "source": [
    "# pd.DateOffset is a usefull function, allow index with e.g. the same date each month\n",
    "pd.date_range(start = \"2015-07-25\", periods = 12, freq = pd.DateOffset(months=1))\n",
    "pd.date_range(end = \"2022-04-20\", periods = 28, freq = pd.DateOffset(years=1))"
   ]
  },
  {
   "cell_type": "markdown",
   "id": "c0d8c266",
   "metadata": {},
   "source": [
    "### Index and slice with Time Series data"
   ]
  },
  {
   "cell_type": "code",
   "execution_count": null,
   "id": "c748f53a",
   "metadata": {},
   "outputs": [],
   "source": [
    "temp.loc[\"2013-01-01 02:00\"]\n",
    "temp.loc[\"2014-04\"] # Returns all rows that contain 2014-04"
   ]
  },
  {
   "cell_type": "code",
   "execution_count": null,
   "id": "395e2214",
   "metadata": {},
   "outputs": [],
   "source": [
    "# When slicing with time series data_ start and stop are both inclusive\n",
    "temp.loc[\"2015-01-01\":\"2015-03-25\"] # All columns\n",
    "temp.loc[\"2015-01-01\":\"2015-03-25\",\"LA\"] # Column \"LA\""
   ]
  },
  {
   "cell_type": "markdown",
   "id": "1601be23",
   "metadata": {},
   "source": [
    "### `.tseries.frequencies.to_offset`\n",
    "\n",
    "Standard kind of date increment used for a date range."
   ]
  },
  {
   "cell_type": "code",
   "execution_count": null,
   "id": "0638da95",
   "metadata": {},
   "outputs": [],
   "source": [
    "from pandas.tseries.frequencies import to_offset\n",
    "t = temp.resample(\"D\").mean()\n",
    "\n",
    "t = t.index + to_offset(\"8H\")"
   ]
  },
  {
   "cell_type": "markdown",
   "id": "ebc9e7f8",
   "metadata": {},
   "source": [
    "### Normalizing to the base 100"
   ]
  },
  {
   "cell_type": "code",
   "execution_count": null,
   "id": "9e7dd971",
   "metadata": {},
   "outputs": [],
   "source": [
    "norm = close.div(close.iloc[0]).mul(100) # Better practice, faster\n",
    "close / close.iloc[0] * 100 # Easy to understand"
   ]
  },
  {
   "cell_type": "markdown",
   "id": "045fbb03",
   "metadata": {},
   "source": [
    "### Examples"
   ]
  },
  {
   "cell_type": "code",
   "execution_count": null,
   "id": "42069403",
   "metadata": {},
   "outputs": [],
   "source": [
    "!pip install yfinance"
   ]
  },
  {
   "cell_type": "code",
   "execution_count": 7,
   "id": "5eb0269a",
   "metadata": {},
   "outputs": [],
   "source": [
    "import matplotlib.pyplot as plt\n",
    "import yfinance as yf"
   ]
  },
  {
   "cell_type": "code",
   "execution_count": 12,
   "id": "139844ce",
   "metadata": {},
   "outputs": [
    {
     "name": "stdout",
     "output_type": "stream",
     "text": [
      "[*********************100%***********************]  6 of 6 completed\n"
     ]
    }
   ],
   "source": [
    "ticker = [\"AAPL\",\"MSFT\",\"NFLX\",\"AMZN\",\"GOOG\",\"TSLA\"]\n",
    "stocks = yf.download(ticker,start=\"2017-01-01\")\n",
    "close = stocks.loc[:,\"Adj Close\"].copy()"
   ]
  },
  {
   "cell_type": "code",
   "execution_count": 15,
   "id": "c7e40cb7",
   "metadata": {},
   "outputs": [
    {
     "data": {
      "image/png": "[encoded data removed]",
      "text/plain": [
       "<Figure size 1440x720 with 6 Axes>"
      ]
     },
     "metadata": {
      "needs_background": "light"
     },
     "output_type": "display_data"
    }
   ],
   "source": [
    "ret = close.pct_change().dropna()\n",
    "ret.plot(figsize=(20,10),fontsize=15, kind=\"hist\",bins=100,subplots=True,layout=(3,2),sharex=True,sharey=True)\n",
    "plt.show()"
   ]
  },
  {
   "cell_type": "code",
   "execution_count": 32,
   "id": "9ea1dbb2",
   "metadata": {},
   "outputs": [],
   "source": [
    "summary = ret.describe().T.loc[:,[\"mean\",\"std\"]]\n",
    "summary[\"mean\"] = summary[\"mean\"]*252\n",
    "summary[\"std\"] = summary[\"std\"]*np.sqrt(252)"
   ]
  },
  {
   "cell_type": "code",
   "execution_count": 33,
   "id": "d5f2175e",
   "metadata": {},
   "outputs": [
    {
     "data": {
      "image/png": "[encoded data removed]",
      "text/plain": [
       "<Figure size 720x720 with 1 Axes>"
      ]
     },
     "metadata": {
      "needs_background": "light"
     },
     "output_type": "display_data"
    }
   ],
   "source": [
    "summary.plot(figsize = (10,10),fontsize=15, kind=\"scatter\",x=\"std\",y=\"mean\",legend=True,s=50,\n",
    "        xlabel=\"ann. risk (std)\",ylabel=\"ann. return\")\n",
    "for i in summary.index:\n",
    "    plt.annotate(i,xy=(summary.loc[i,\"std\"]+0.01,summary.loc[i,\"mean\"]+0.01),size=15)\n",
    "plt.xlim([0,1])\n",
    "plt.ylim([0,1])\n",
    "plt.show()"
   ]
  },
  {
   "cell_type": "markdown",
   "id": "425dd001",
   "metadata": {},
   "source": [
    "# Plotting\n",
    "\n",
    "Se separate document for a more comprehensive guide to plotting with pandas"
   ]
  },
  {
   "cell_type": "code",
   "execution_count": 5,
   "id": "ccfd2949",
   "metadata": {},
   "outputs": [],
   "source": [
    "import matplotlib.pyplot as plt"
   ]
  },
  {
   "cell_type": "code",
   "execution_count": null,
   "id": "0ad5c51e",
   "metadata": {},
   "outputs": [],
   "source": [
    "temp.plot(figsize=[14,7])\n",
    "plt.show"
   ]
  },
  {
   "cell_type": "code",
   "execution_count": null,
   "id": "9c8a7943",
   "metadata": {},
   "outputs": [],
   "source": [
    "temp.plot(figsize=[14,7], subplots=True, layout=(1,2),sharey=True)\n",
    "plt.show"
   ]
  }
 ],
 "metadata": {
  "kernelspec": {
   "display_name": "Python 3 (ipykernel)",
   "language": "python",
   "name": "python3"
  },
  "language_info": {
   "codemirror_mode": {
    "name": "ipython",
    "version": 3
   },
   "file_extension": ".py",
   "mimetype": "text/x-python",
   "name": "python",
   "nbconvert_exporter": "python",
   "pygments_lexer": "ipython3",
   "version": "3.9.12"
  }
 },
 "nbformat": 4,
 "nbformat_minor": 5
}
