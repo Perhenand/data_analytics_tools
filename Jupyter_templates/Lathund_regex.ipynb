{
 "cells": [
  {
   "cell_type": "markdown",
   "id": "793d6592",
   "metadata": {},
   "source": [
    "# Introduction to Regular Expression or `regex`"
   ]
  },
  {
   "cell_type": "markdown",
   "id": "8c580dc6",
   "metadata": {},
   "source": [
    "* **Pattern** - A text pattern of interest expressed in Regular Expression Language <br> Example: `\\b\\d+\\b` matches a word made up of one or more decimal digits.\n",
    "\n",
    "* **Text** – String in which to look for a match with a given pattern\n",
    "\n",
    "* **Regex Engine** - Regular Expression Engine that does the actual work\n",
    "\n",
    "* **Regex Module** – Python module for interacting with Regex Engine.\n",
    "Module: re"
   ]
  },
  {
   "cell_type": "markdown",
   "id": "2347be0c",
   "metadata": {},
   "source": [
    "# Resources"
   ]
  },
  {
   "cell_type": "markdown",
   "id": "599feb2a",
   "metadata": {},
   "source": [
    "* <a href=\"https://regex101.com/\"> regex101 </a>\n",
    "* <a href=\"https://docs.python.org/3/library/re.html\"> docs.python.org </a>\n",
    "* <a href=\"https://www.regular-expressions.info/brackets.html\"> www.regular-expressions.info </a>"
   ]
  },
  {
   "cell_type": "markdown",
   "id": "061cfc59",
   "metadata": {},
   "source": [
    "## Python `regex` methods"
   ]
  },
  {
   "cell_type": "markdown",
   "id": "62b7fb39",
   "metadata": {},
   "source": [
    "Some common methods:\n",
    "* `re.match()` - Finds first match at start of text.   \n",
    "* `re.fullmatch()`\n",
    "* `re.search()` - Finds the first match anywhere in the text\n",
    "* `re.findall()` - Finds all matches \n",
    "    * This method will return only after scanning the entire text. Can take a long time to run if looking throught a long text. \n",
    "* `re.finditer()` - Iterator\n",
    "* `re.sub()` - Return the string obtained by replacing the leftmost non-overlapping occurrences of pattern in string by the replacement repl\n",
    "* `re.split()` - Split string by the occurrences of pattern\n",
    "\n",
    "For a complete list: https://docs.python.org/3/library/re.html#module-contents\n",
    "\n",
    "\n",
    "\n",
    "\n",
    "\n",
    "\n"
   ]
  },
  {
   "cell_type": "markdown",
   "id": "926f9f44",
   "metadata": {},
   "source": [
    "## `regex` pattern"
   ]
  },
  {
   "cell_type": "markdown",
   "id": "0d270ff6",
   "metadata": {},
   "source": [
    "### The raw-string"
   ]
  },
  {
   "cell_type": "code",
   "execution_count": 5,
   "id": "150499cf",
   "metadata": {},
   "outputs": [],
   "source": [
    "# Regex pattern are given as raw-strings (litteral strings)\n",
    "pattern = r\"\\d+\""
   ]
  },
  {
   "cell_type": "markdown",
   "id": "d53e7277",
   "metadata": {},
   "source": [
    "### Single char patterns"
   ]
  },
  {
   "cell_type": "code",
   "execution_count": 72,
   "id": "bf5a8013",
   "metadata": {},
   "outputs": [],
   "source": [
    "pattern = r\"very\" # You can specify a literal string as pattern\n",
    "pattern = r\"[ry]\" #Set [...] is used for OR condition\n",
    "pattern = r\"[a-dx-z0-9]\" #a-d and x-z and 0-9\n",
    "pattern = r\"bod[yies]*\" # Combine a literal with a set to find variants of words\n",
    "pattern = r\"[^aieou]\" # You can use ^ to negate a pattern\n",
    "pattern = r\".\" # Dot (.) is a wildcard character and matches all characters except newline \\n\n",
    "pattern = r\"\\.\" # Use \\ to escape special characters"
   ]
  },
  {
   "cell_type": "markdown",
   "id": "5bfe8ff7",
   "metadata": {},
   "source": [
    "### `Character Classes`"
   ]
  },
  {
   "cell_type": "code",
   "execution_count": null,
   "id": "4661022b",
   "metadata": {},
   "outputs": [],
   "source": [
    "pattern = r\"\\w\" # Word character. [0-9_a-zA-Z] and Unicode word characters\n",
    "pattern = r\"\\W\" # Negation of word char\n",
    "pattern = r\"\\d\" # Match digits in all languages\n",
    "pattern = r\"\\D\" # match all non-digits\n",
    "pattern = r\"\\s\" # match all whitespaces\n",
    "pattern = r\"\\S\" # Negation of all whitespaces"
   ]
  },
  {
   "cell_type": "markdown",
   "id": "22337ea3",
   "metadata": {},
   "source": [
    "### `Quantifiers`\n",
    "\n",
    "<a href=\"https://medium.com/@318097/greedy-lazy-match-in-regular-expression-35ce8eca4060\"> Difference between Greedy and Lazy </a>"
   ]
  },
  {
   "cell_type": "code",
   "execution_count": 74,
   "id": "7647c007",
   "metadata": {},
   "outputs": [],
   "source": [
    "# There are several regular expression quantifiers which are used to specify how many times a given \n",
    "# character can be repeated before matching is done. This is mainly used when the number of characters \n",
    "# going to be matched is unknown.\n",
    "\n",
    "# Greedy    Lazy    Matches\n",
    "# *         *?      0 or more times\n",
    "# +         +?      1 or more times\n",
    "# ?         ??      0 or 1 time\n",
    "# {n}       {n}?    Exatly n times\n",
    "# {n,}      {n,}?   At least n times\n",
    "# {n,m}     {n,m}?  From n to m times"
   ]
  },
  {
   "cell_type": "code",
   "execution_count": 78,
   "id": "2479952b",
   "metadata": {},
   "outputs": [
    {
     "name": "stdout",
     "output_type": "stream",
     "text": [
      "Greedy match:  ['Bam Baam Baaaaaamaam Bm']\n",
      "Lazy match:  ['Bam', 'Baam', 'Baaaaaam', 'Bm']\n"
     ]
    }
   ],
   "source": [
    "text = \"Bam Baam Baaaaaamaam Bm\"\n",
    "pattern_grd = r\"B\\D*m\"\n",
    "pattern_lzy = r\"B\\D*?m\"\n",
    "print(\"Greedy match: \",re.findall(pattern_grd,text))\n",
    "print(\"Lazy match: \",re.findall(pattern_lzy,text))"
   ]
  },
  {
   "cell_type": "code",
   "execution_count": 82,
   "id": "472617ed",
   "metadata": {},
   "outputs": [
    {
     "name": "stdout",
     "output_type": "stream",
     "text": [
      "Greedy match:  ['12', '123', '1234', '12345', '12345']\n",
      "Lazy match:  ['12', '12', '12', '34', '12', '34', '12', '34', '56']\n"
     ]
    }
   ],
   "source": [
    "text = \"12, 123, 1234, 12345, 123456\"\n",
    "pattern_grd = r\"\\d{2,5}\"\n",
    "pattern_lzy = r\"\\d{2,5}?\"\n",
    "print(\"Greedy match: \",re.findall(pattern_grd,text))\n",
    "print(\"Lazy match: \",re.findall(pattern_lzy,text))"
   ]
  },
  {
   "cell_type": "markdown",
   "id": "de31dade",
   "metadata": {},
   "source": [
    "### `Anchors`"
   ]
  },
  {
   "cell_type": "code",
   "execution_count": 89,
   "id": "8c8e8978",
   "metadata": {},
   "outputs": [
    {
     "name": "stdout",
     "output_type": "stream",
     "text": [
      "['house']\n",
      "['text', 'text']\n"
     ]
    }
   ],
   "source": [
    "# Word boundary\n",
    "# Use ^ to check at beginning of string or line\n",
    "# Use $ to check at beginning of string or line\n",
    "# Use \\b anchor to match ar word boundaries\n",
    "# Use \\B anchor to match ar word boundaries\n",
    "\n",
    "text = \"There is greenhouse gas in my green house, the one besides my outhouse.\"\n",
    "pattern = r\"\\bhouse\\b\"\n",
    "print(re.findall(pattern, text))\n",
    "\n",
    "text = \"text goes on line one \\n text goes here as well\"\n",
    "pattern= r\"^text\" # Use ^ to check at beginning of string or line\n",
    "pattern= r\"(?m)text\"  # Use (?m) to check at beginning of string and after newline\n",
    "print(re.findall(pattern, text))"
   ]
  },
  {
   "cell_type": "markdown",
   "id": "a529f5d5",
   "metadata": {},
   "source": [
    "### `Groups` - find sub matches\n",
    "group 0 = refers to the text in a string that matched the pattern<br>\n",
    "group 1..n onwards refer to the sub-groups"
   ]
  },
  {
   "cell_type": "code",
   "execution_count": 90,
   "id": "793ee8db",
   "metadata": {},
   "outputs": [
    {
     "name": "stdout",
     "output_type": "stream",
     "text": [
      "\tGroup: 1 2022 \tat index: 11\n",
      "\tGroup: 2 02 \tat index: 15\n",
      "\tGroup: 3 22 \tat index: 17\n"
     ]
    }
   ],
   "source": [
    "pattern = r\"(\\d{4})(\\d{2})(\\d{2})\"\n",
    "text = \"Start date 20220222\"\n",
    "\n",
    "match = re.search(pattern,text)\n",
    "\n",
    "for idx, value in enumerate(match.groups()):\n",
    "    print(f\"\\tGroup: {idx+1} {value} \\tat index: {match.start(idx+1)}\")"
   ]
  },
  {
   "cell_type": "markdown",
   "id": "fa12b0c4",
   "metadata": {},
   "source": [
    "### `named groups`"
   ]
  },
  {
   "cell_type": "code",
   "execution_count": null,
   "id": "1e25d71d",
   "metadata": {},
   "outputs": [],
   "source": [
    "pattern = r\"(?P<year>\\d{4})(?P<month>\\d{2})(?P<day>\\d{2})\"\n",
    "text = \"Start date 20220222\"\n",
    "\n",
    "match = re.search(pattern,text)\n",
    "\n",
    "if match:\n",
    "    print(f\"Found match: {match.group(0)} at index: {match.start()}\")\n",
    "    print(f\"\\t {match.groupdict()}\")"
   ]
  },
  {
   "cell_type": "markdown",
   "id": "7c53aabf",
   "metadata": {},
   "source": [
    "## Examples"
   ]
  },
  {
   "cell_type": "code",
   "execution_count": 6,
   "id": "fa14a4dc",
   "metadata": {},
   "outputs": [],
   "source": [
    "import re"
   ]
  },
  {
   "cell_type": "markdown",
   "id": "8e85e311",
   "metadata": {},
   "source": [
    "### `re.match` - Find first match at start of text"
   ]
  },
  {
   "cell_type": "code",
   "execution_count": 62,
   "id": "052417c3",
   "metadata": {},
   "outputs": [
    {
     "name": "stdout",
     "output_type": "stream",
     "text": [
      "123 at index 0\n"
     ]
    }
   ],
   "source": [
    "text = \"123 The year that Gustav Vasa became the king of Sweden is 1523\"\n",
    "pattern = r\"\\d+\" # one or more digits\n",
    "\n",
    "match = re.match(pattern,text)\n",
    "print(f\"{match.group(0)} at index {match.start()}\" if match else \"no match\")"
   ]
  },
  {
   "cell_type": "markdown",
   "id": "dcd63c9b",
   "metadata": {},
   "source": [
    "### `re.search` - Finds the first match anywhere in the text"
   ]
  },
  {
   "cell_type": "code",
   "execution_count": 61,
   "id": "5b1de67c",
   "metadata": {},
   "outputs": [
    {
     "name": "stdout",
     "output_type": "stream",
     "text": [
      "Found a match: 1523 at index 55\n"
     ]
    }
   ],
   "source": [
    "pattern = r\"\\d+\" # one or more digits\n",
    "text = r\"The year that Gustav Vasa became the king of Sweden is 1523.\"\n",
    "\n",
    "match = re.search(pattern,text)\n",
    "print(f\"Found a match: {match.group(0)} at index {match.start()}\" if match else \"No match\")"
   ]
  },
  {
   "cell_type": "markdown",
   "id": "0622a8ae",
   "metadata": {},
   "source": [
    "### `re.findall` - Finds all matches \n",
    "\n",
    "This method will return only after scanning the entire text. Can take a long time to run if looking throught a long text."
   ]
  },
  {
   "cell_type": "code",
   "execution_count": 37,
   "id": "0c70b85a",
   "metadata": {},
   "outputs": [
    {
     "name": "stdout",
     "output_type": "stream",
     "text": [
      "Found matches: ['18162', '18143', '18157', '18130']\n"
     ]
    }
   ],
   "source": [
    "pattern = r\"\\d+\"\n",
    "text = \"Lidingö Postal Codes are 18162, 18143, 18157, 18130\"\n",
    "\n",
    "match = re.findall(pattern,text)\n",
    "print(\"Found matches:\", match) if match else print(\"Found no matches\")"
   ]
  },
  {
   "cell_type": "markdown",
   "id": "16dd37b1",
   "metadata": {},
   "source": [
    "### `re.finditer` - Iterator"
   ]
  },
  {
   "cell_type": "code",
   "execution_count": 40,
   "id": "d4a70b6c",
   "metadata": {},
   "outputs": [
    {
     "name": "stdout",
     "output_type": "stream",
     "text": [
      "\t 18162 at index: 25\n",
      "\t 18143 at index: 32\n",
      "\t 18157 at index: 39\n"
     ]
    }
   ],
   "source": [
    "pattern = r\"\\d+\"\n",
    "text = \"Lidingö Postal Codes are 18162, 18143, 18157, 18130\"\n",
    "\n",
    "match_iter = re.finditer(pattern, text)\n",
    "\n",
    "i = 0\n",
    "for match in match_iter:\n",
    "    print(\"\\t\", match.group(0), \"at index:\",match.start())\n",
    "    i += 1\n",
    "    if i > 2:\n",
    "        break"
   ]
  },
  {
   "cell_type": "markdown",
   "id": "deff72f7",
   "metadata": {},
   "source": [
    "### `re.sub` - Finds pattern and replace it with pattern"
   ]
  },
  {
   "cell_type": "code",
   "execution_count": 69,
   "id": "2f9c4c4e",
   "metadata": {},
   "outputs": [
    {
     "name": "stdout",
     "output_type": "stream",
     "text": [
      "Original text:  I was born 19950420 and Gustav was born 19951218 and Nils was born 19940802\n",
      "New text:  I was born 1995-04-20 and Gustav was born 1995-12-18 and Nils was born 1994-08-02\n"
     ]
    }
   ],
   "source": [
    "# Format date: 20200920 => 09-20-2020\n",
    "text = \" I was born 19950420 and Gustav was born 19951218 and Nils was born 19940802\"\n",
    "pattern = r\"(?P<year>\\d{4})(?P<month>\\d{2})(?P<day>\\d{2})\"\n",
    "replac_pattern = r\"\\g<year>-\\g<month>-\\g<day>\"\n",
    "\n",
    "print(\"Original text:\", text)\n",
    "print(\"New text:\", re.sub(pattern,replac_pattern,text))"
   ]
  },
  {
   "cell_type": "markdown",
   "id": "7fffbd55",
   "metadata": {},
   "source": [
    "### `re.sub` - Finds pattern and replace it with date"
   ]
  },
  {
   "cell_type": "code",
   "execution_count": 70,
   "id": "8cfdefac",
   "metadata": {},
   "outputs": [],
   "source": [
    "# 20200821 => python's datetime format (formated as 21-Aug-2020)\n",
    "# Ref: https://docs.python.org/3/library/datetime.html#strftime-strptime-behavior\n",
    "import datetime\n",
    "\n",
    "def format_date(match):\n",
    "    in_date = match.groupdict()\n",
    "    year = int(in_date[\"year\"])\n",
    "    month = int(in_date[\"month\"])\n",
    "    day = int(in_date[\"day\"])\n",
    "    return datetime.date(year,month,day).strftime(\"%d %B %Y\")"
   ]
  },
  {
   "cell_type": "code",
   "execution_count": 71,
   "id": "77fa9f19",
   "metadata": {},
   "outputs": [
    {
     "name": "stdout",
     "output_type": "stream",
     "text": [
      "Original text:  I was born 19950420 and Gustav was born 19951218 and Nils was born 19940802\n",
      "New text:  I was born 20 April 1995 and Gustav was born 18 December 1995 and Nils was born 02 August 1994\n"
     ]
    }
   ],
   "source": [
    "pattern = r\"(?P<year>\\d{4})(?P<month>\\d{2})(?P<day>\\d{2})\"\n",
    "text = \" I was born 19950420 and Gustav was born 19951218 and Nils was born 19940802\"\n",
    "\n",
    "print(\"Original text:\", text)\n",
    "print(\"New text:\", re.sub(pattern,format_date,text)) # Calling my user-defined function inside the sub"
   ]
  },
  {
   "cell_type": "markdown",
   "id": "a7d8d375",
   "metadata": {},
   "source": [
    "### Input validation"
   ]
  },
  {
   "cell_type": "code",
   "execution_count": 41,
   "id": "d35ed0db",
   "metadata": {},
   "outputs": [],
   "source": [
    "def is_integer(text):\n",
    "    match = re.search(r\"^\\d+$\",text) # Match digits at start, middel and end\n",
    "    return True if match else False"
   ]
  },
  {
   "cell_type": "code",
   "execution_count": 43,
   "id": "73996507",
   "metadata": {},
   "outputs": [],
   "source": [
    "def test_is_integer():\n",
    "    pass_lst = [\"123\",\"4\",\"900\",\"23464\",\"0091\"]\n",
    "    fail_lst = [\"as23\",\"12b\",\"1 2 3\",\"1\\t2\",\" 12\",\"45 \"]\n",
    "    \n",
    "    for t in pass_lst:\n",
    "        if not is_integer(t):\n",
    "            print(\"\\tFailed to detect integer:\",t)\n",
    "    for t in fail_lst:\n",
    "        if is_integer(t):\n",
    "            print(\"\\tIncorrectly classified as an integer:\",t)"
   ]
  },
  {
   "cell_type": "code",
   "execution_count": 44,
   "id": "a2047110",
   "metadata": {},
   "outputs": [],
   "source": [
    "test_is_integer()"
   ]
  }
 ],
 "metadata": {
  "kernelspec": {
   "display_name": "Python 3 (ipykernel)",
   "language": "python",
   "name": "python3"
  },
  "language_info": {
   "codemirror_mode": {
    "name": "ipython",
    "version": 3
   },
   "file_extension": ".py",
   "mimetype": "text/x-python",
   "name": "python",
   "nbconvert_exporter": "python",
   "pygments_lexer": "ipython3",
   "version": "3.9.12"
  }
 },
 "nbformat": 4,
 "nbformat_minor": 5
}
