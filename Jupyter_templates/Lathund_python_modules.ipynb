{
 "cells": [
  {
   "cell_type": "markdown",
   "id": "2f957523",
   "metadata": {},
   "source": [
    "# Import custom module"
   ]
  },
  {
   "cell_type": "code",
   "execution_count": null,
   "id": "945f69b8",
   "metadata": {},
   "outputs": [],
   "source": [
    "import sys\n",
    "path = os.path.join(os.path.abspath(os.curdir),\"models\")\n",
    "path = \"C:/Users/ander/Documents/Handling/Kurs/Python/Eget/Bib/datagnome\"\n",
    "sys.path.append(path)\n",
    "\n",
    "import datagnome as dgnom\n",
    "from importlib import reload"
   ]
  },
  {
   "cell_type": "code",
   "execution_count": null,
   "id": "378114d7",
   "metadata": {},
   "outputs": [],
   "source": [
    "# Update \n",
    "reload(dgnom)"
   ]
  },
  {
   "cell_type": "markdown",
   "id": "3317f187",
   "metadata": {},
   "source": [
    "# `Os` module"
   ]
  },
  {
   "cell_type": "code",
   "execution_count": 1,
   "id": "d6f09c8f",
   "metadata": {},
   "outputs": [],
   "source": [
    "import os\n",
    "\n",
    "cwd = os.getcwd()\n",
    "dfd = os.path.join(cwd,\"Data\")\n",
    "#path = os.path.join(os.path.abspath(os.curdir),\"models\")\n",
    "\n",
    "filp = os.curdir + \"/Data/\" + \"titanic.csv\" "
   ]
  },
  {
   "cell_type": "code",
   "execution_count": null,
   "id": "867db86d",
   "metadata": {},
   "outputs": [],
   "source": []
  }
 ],
 "metadata": {
  "kernelspec": {
   "display_name": "Python 3 (ipykernel)",
   "language": "python",
   "name": "python3"
  },
  "language_info": {
   "codemirror_mode": {
    "name": "ipython",
    "version": 3
   },
   "file_extension": ".py",
   "mimetype": "text/x-python",
   "name": "python",
   "nbconvert_exporter": "python",
   "pygments_lexer": "ipython3",
   "version": "3.9.12"
  }
 },
 "nbformat": 4,
 "nbformat_minor": 5
}
