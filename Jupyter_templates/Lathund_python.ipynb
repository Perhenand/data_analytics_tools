{
 "cells": [
  {
   "cell_type": "markdown",
   "id": "94e28225",
   "metadata": {},
   "source": [
    "# Rules for variable names\n",
    "* names can not start with a number\n",
    "* names can not contain spaces, use _ intead\n",
    "* names can not contain any of these symbols:\n",
    "\n",
    "      :'\",<>/?|\\!@#%^&*~-+\n",
    "       \n",
    "* it's considered best practice ([PEP8](https://www.python.org/dev/peps/pep-0008/#function-and-variable-names)) that names are lowercase with underscores\n",
    "* avoid using Python built-in keywords like `list` and `str`\n",
    "* avoid using the single characters `l` (lowercase letter el), `O` (uppercase letter oh) and `I` (uppercase letter eye) as they can be confused with `1` and `0`"
   ]
  },
  {
   "cell_type": "code",
   "execution_count": 4,
   "id": "a3d9b8bc",
   "metadata": {},
   "outputs": [],
   "source": [
    "snake_case =\"Python best practice\""
   ]
  },
  {
   "cell_type": "markdown",
   "id": "b1721ac7",
   "metadata": {},
   "source": [
    "# Variable scope"
   ]
  },
  {
   "cell_type": "markdown",
   "id": "17ecf913",
   "metadata": {},
   "source": [
    "## LEGB\n",
    "\n",
    "L: Local — Names assigned in any way within a function (def or lambda), and not declared global in that function.\n",
    "\n",
    "E: Enclosing function locals — Names in the local scope of any and all enclosing functions (def or lambda), from inner to outer.\n",
    "\n",
    "G: Global (module) — Names assigned at the top-level of a module file, or declared global in a def within the file.\n",
    "\n",
    "B: Built-in (Python) — Names preassigned in the built-in names module : open, range, zip, str"
   ]
  },
  {
   "cell_type": "markdown",
   "id": "eb2baa05",
   "metadata": {},
   "source": [
    "# Operators\n",
    "## Comparison operators\n",
    "Comparison operators are used to compare two values: <br>\n",
    "`==` `!=` `>` `<` `>=` `<=`\n",
    "\n",
    "## Logical operators\n",
    "Logical operators are used to combine conditional statements: <br>\n",
    "`and` `or` `not`\n",
    "\n",
    "\n",
    "## Identity operators   \n",
    "Identity operators are used to compare the objects, not if they are equal, but if they are actually the same object, with the same memory location: <br>\n",
    "`is` `is not`\n",
    "\n",
    "## Membership operators\n",
    "Membership operators are used to test if a sequence is presented in an object: <br>\n",
    "`in` `not in`\n",
    "\n",
    "## Chained operators\n",
    "`and`, `ord`"
   ]
  },
  {
   "cell_type": "code",
   "execution_count": null,
   "id": "ddae8390",
   "metadata": {},
   "outputs": [],
   "source": [
    "\"a\" in \"abcd\" and 7 == 9"
   ]
  },
  {
   "cell_type": "code",
   "execution_count": null,
   "id": "71a69934",
   "metadata": {},
   "outputs": [],
   "source": [
    "11 <= 11 <= 33"
   ]
  },
  {
   "cell_type": "markdown",
   "id": "33062889",
   "metadata": {},
   "source": [
    "## Arithmetic Operators\n",
    "`+` `-` `*` `/` `%` `**` `//`"
   ]
  },
  {
   "cell_type": "code",
   "execution_count": 5,
   "id": "c012483d",
   "metadata": {},
   "outputs": [
    {
     "data": {
      "text/plain": [
       "1.5"
      ]
     },
     "execution_count": 5,
     "metadata": {},
     "output_type": "execute_result"
    }
   ],
   "source": [
    "# Div\n",
    "3/2"
   ]
  },
  {
   "cell_type": "code",
   "execution_count": 6,
   "id": "04f25c1e",
   "metadata": {},
   "outputs": [
    {
     "data": {
      "text/plain": [
       "1"
      ]
     },
     "execution_count": 6,
     "metadata": {},
     "output_type": "execute_result"
    }
   ],
   "source": [
    "# Floor div\n",
    "7//4"
   ]
  },
  {
   "cell_type": "code",
   "execution_count": 7,
   "id": "30ca0fad",
   "metadata": {},
   "outputs": [
    {
     "data": {
      "text/plain": [
       "1"
      ]
     },
     "execution_count": 7,
     "metadata": {},
     "output_type": "execute_result"
    }
   ],
   "source": [
    "# Modulo\n",
    "9%4"
   ]
  },
  {
   "cell_type": "markdown",
   "id": "edda13c7",
   "metadata": {},
   "source": [
    "## Assignment Operators\n",
    "`+=` `-=` `*=` `/=` `%=` `//=` \n",
    "\n",
    "x += 1 is the same as x = x + 1"
   ]
  },
  {
   "cell_type": "markdown",
   "id": "f6ad341a",
   "metadata": {},
   "source": [
    "# Loops and conditional logic\n",
    "## If, Elif, Else statements"
   ]
  },
  {
   "cell_type": "code",
   "execution_count": null,
   "id": "7e6465bc",
   "metadata": {},
   "outputs": [],
   "source": [
    "x = int(input(\"Ange tal \"))\n",
    "if x == 10:\n",
    "    print(\"x is ten\")\n",
    "elif x < 10:\n",
    "    print(\"x is less than ten\")\n",
    "else:\n",
    "    print(\"x is more than ten\")"
   ]
  },
  {
   "cell_type": "markdown",
   "id": "47af1b58",
   "metadata": {},
   "source": [
    "0 and empty iterables evaluate to `False`"
   ]
  },
  {
   "cell_type": "code",
   "execution_count": null,
   "id": "43d0517c",
   "metadata": {},
   "outputs": [],
   "source": [
    "bool(set())"
   ]
  },
  {
   "cell_type": "markdown",
   "id": "2d1dc8c9",
   "metadata": {},
   "source": [
    "## For loops"
   ]
  },
  {
   "cell_type": "code",
   "execution_count": null,
   "id": "512f0364",
   "metadata": {},
   "outputs": [],
   "source": [
    "for num in range(1,11):\n",
    "    if num%2 == 0:\n",
    "        print(f\"Number is even: {num}\")"
   ]
  },
  {
   "cell_type": "markdown",
   "id": "24df40fb",
   "metadata": {},
   "source": [
    "When looping over a list of tuples it is possible to unpack each tuple directly in the loop header"
   ]
  },
  {
   "cell_type": "code",
   "execution_count": null,
   "id": "ff406fda",
   "metadata": {},
   "outputs": [],
   "source": [
    "for lon,lat in [(1,11),(2,22),(3,33)]:\n",
    "    print(lat)"
   ]
  },
  {
   "cell_type": "markdown",
   "id": "a4f8b98a",
   "metadata": {},
   "source": [
    "Usefull methods when looping over dictionares: `.item()`, `.values()`, `.keys()`"
   ]
  },
  {
   "cell_type": "code",
   "execution_count": null,
   "id": "8b32f71b",
   "metadata": {},
   "outputs": [],
   "source": [
    "di = {\"A\":1,\"B\":2,\"C\":3}\n",
    "for key in di:\n",
    "    print(f\"{key}: {di[key]}\")"
   ]
  },
  {
   "cell_type": "code",
   "execution_count": null,
   "id": "543e90ac",
   "metadata": {},
   "outputs": [],
   "source": [
    "for i,v in di.items():\n",
    "    print(f\"{i}: {v}\")"
   ]
  },
  {
   "cell_type": "markdown",
   "id": "726d491b",
   "metadata": {},
   "source": [
    "## While loops"
   ]
  },
  {
   "cell_type": "code",
   "execution_count": null,
   "id": "93109229",
   "metadata": {},
   "outputs": [],
   "source": [
    "x = 0\n",
    "while x < 10:\n",
    "    print(f\"{x} is currently less than 10\")\n",
    "    x += 1\n",
    "else:\n",
    "    print(\"All done!\")"
   ]
  },
  {
   "cell_type": "markdown",
   "id": "5625a891",
   "metadata": {},
   "source": [
    "## `enumerate` function\n",
    "Usefull when we need to keep track on indices when looping over a sequence"
   ]
  },
  {
   "cell_type": "code",
   "execution_count": null,
   "id": "de27d32c",
   "metadata": {},
   "outputs": [],
   "source": [
    "lst = \"A B C D\".split()"
   ]
  },
  {
   "cell_type": "code",
   "execution_count": null,
   "id": "0ea8a0c0",
   "metadata": {},
   "outputs": [],
   "source": [
    "for i,c in enumerate(lst):\n",
    "    print(f\"{c} is at index position {i} in the list\")"
   ]
  },
  {
   "cell_type": "code",
   "execution_count": null,
   "id": "331a44f5",
   "metadata": {},
   "outputs": [],
   "source": [
    "dct = dict(enumerate(lst))"
   ]
  },
  {
   "cell_type": "markdown",
   "id": "45df3ba7",
   "metadata": {},
   "source": [
    "## break, continue, pass\n",
    "\n",
    "We can use <code>break</code>, <code>continue</code>, and <code>pass</code> statements in our loops to add additional functionality for various cases. The three statements are defined by:\n",
    "\n",
    "    break: Breaks out of the current closest enclosing loop.\n",
    "    continue: Goes to the top of the closest enclosing loop.\n",
    "    pass: Does nothing at all.\n",
    "    \n",
    "    \n",
    "Thinking about <code>break</code> and <code>continue</code> statements, the general format of the <code>while</code> loop looks like this:\n",
    "\n",
    "    while test: \n",
    "        code statement\n",
    "        if test: \n",
    "            break\n",
    "        if test: \n",
    "            continue \n",
    "    else:\n",
    "\n",
    "<code>break</code> and <code>continue</code> statements can appear anywhere inside the loop's body, but we will usually put them further nested in conjunction with an <code>if</code> statement to perform an action based on some condition."
   ]
  },
  {
   "cell_type": "markdown",
   "id": "1bb2a675",
   "metadata": {},
   "source": [
    "<img src=\"https://i.stack.imgur.com/Btr3L.png\" width=\"200\" height=\"100\">"
   ]
  },
  {
   "cell_type": "markdown",
   "id": "fbb8bcda",
   "metadata": {},
   "source": [
    "# List comprehensions\n",
    "The main point of list comprehensions is efficient code\n",
    "It is a combination of looping and creating lists"
   ]
  },
  {
   "cell_type": "code",
   "execution_count": 47,
   "id": "ebeae183",
   "metadata": {},
   "outputs": [
    {
     "name": "stdout",
     "output_type": "stream",
     "text": [
      "['seasick', 'seamen', 'shanghai']\n"
     ]
    }
   ],
   "source": [
    "my_list = [\"seven\", \"seasick\", \"seamen\", \"on\", \"a\", \"ship\", \"to\", \"shanghai\"]\n",
    "new_lst = [i for i in my_list if len(i)>5]\n",
    "print(new_lst)"
   ]
  },
  {
   "cell_type": "code",
   "execution_count": 48,
   "id": "327c9762",
   "metadata": {},
   "outputs": [
    {
     "data": {
      "text/plain": [
       "34"
      ]
     },
     "execution_count": 48,
     "metadata": {},
     "output_type": "execute_result"
    }
   ],
   "source": [
    "34 if len(my_list)>2 else 7"
   ]
  },
  {
   "cell_type": "code",
   "execution_count": 50,
   "id": "feb6332c",
   "metadata": {},
   "outputs": [
    {
     "data": {
      "text/plain": [
       "[1, 2, 3, 4, 5, 6, 7, 8, 9]"
      ]
     },
     "execution_count": 50,
     "metadata": {},
     "output_type": "execute_result"
    }
   ],
   "source": [
    "matrix = [[1,2,3], [4,5,6], [7,8,9]]\n",
    "lst = [j for i in matrix for j in i]\n",
    "lst"
   ]
  },
  {
   "cell_type": "markdown",
   "id": "258758ca",
   "metadata": {},
   "source": [
    "# Data structures\n",
    "You can check what type of object is assigned to a variable using Python's built-in `type()` function. Common data types include:\n",
    "* **int** (for integer)\n",
    "* **float**\n",
    "* **str** (for string). Immutable, they cannot be updated\n",
    "* **list**\n",
    "* **tuple**\n",
    "* **dict** (for dictionary)\n",
    "* **set**\n",
    "* **bool** (for Boolean True/False)"
   ]
  },
  {
   "cell_type": "code",
   "execution_count": null,
   "id": "812ae678",
   "metadata": {},
   "outputs": [],
   "source": [
    "type({\"A\":1,\"B\":2})"
   ]
  },
  {
   "cell_type": "markdown",
   "id": "96faf71e",
   "metadata": {},
   "source": [
    "## Lists\n",
    "List items are ordered, changeable, and allow duplicate values. \n",
    "\n",
    "List items are indexed, the first item has index [0]\n",
    "\n",
    "<font color=red>To make a copy of a list use either copy() or list().</font> Typing list2 = list1 will create list2 as a reference to list1, and changes made in list1 will automatically also be made in list2."
   ]
  },
  {
   "cell_type": "markdown",
   "id": "b8264b6c",
   "metadata": {},
   "source": [
    "### Basic methods\n",
    "`append()`, `reverse()`, `sort()`, `copy()`"
   ]
  },
  {
   "cell_type": "code",
   "execution_count": 29,
   "id": "ff3175e4",
   "metadata": {},
   "outputs": [
    {
     "name": "stdout",
     "output_type": "stream",
     "text": [
      "[43, 32, 9, 6, 0.3, 0.23]\n"
     ]
    }
   ],
   "source": [
    "nums  = [0.3,0.23,32,43,9,6]\n",
    "nums.sort(reverse=True)\n",
    "print(nums)"
   ]
  },
  {
   "cell_type": "markdown",
   "id": "57ce1679",
   "metadata": {},
   "source": [
    "### Nesting lists"
   ]
  },
  {
   "cell_type": "code",
   "execution_count": 30,
   "id": "a1fc571c",
   "metadata": {},
   "outputs": [],
   "source": [
    "lst_1 = [11,12,13]\n",
    "lst_2 = [21,22,23]\n",
    "matrix = [lst_1,lst_2]"
   ]
  },
  {
   "cell_type": "markdown",
   "id": "75e57666",
   "metadata": {},
   "source": [
    "## Dictionaries\n",
    "Dictionary items are ordered, changeable, and does not allow duplicates.\n",
    "\n",
    "Dictionary items are presented in key:value pairs, and can be referred to by using the key name.\n",
    "\n",
    "<font color=red>To make a copy of a dictionary use either copy() or dict().</font> <br>"
   ]
  },
  {
   "cell_type": "code",
   "execution_count": 40,
   "id": "f31483e0",
   "metadata": {},
   "outputs": [],
   "source": [
    "my_dict = {\"key1\":34,\"key2\":4}"
   ]
  },
  {
   "cell_type": "code",
   "execution_count": 42,
   "id": "f62e5af9",
   "metadata": {},
   "outputs": [],
   "source": [
    "my_dict[\"key3\"] = \"red\""
   ]
  },
  {
   "cell_type": "markdown",
   "id": "527d8861",
   "metadata": {},
   "source": [
    "### Basic methods\n",
    "`.item()`, `.values()`, `.keys()`"
   ]
  },
  {
   "cell_type": "code",
   "execution_count": 46,
   "id": "d263f68d",
   "metadata": {},
   "outputs": [
    {
     "data": {
      "text/plain": [
       "34"
      ]
     },
     "execution_count": 46,
     "metadata": {},
     "output_type": "execute_result"
    }
   ],
   "source": [
    "my_dict[\"key1\"]"
   ]
  },
  {
   "cell_type": "code",
   "execution_count": 43,
   "id": "a2b25962",
   "metadata": {},
   "outputs": [
    {
     "data": {
      "text/plain": [
       "'red'"
      ]
     },
     "execution_count": 43,
     "metadata": {},
     "output_type": "execute_result"
    }
   ],
   "source": [
    "my_dict.get(\"key3\")"
   ]
  },
  {
   "cell_type": "markdown",
   "id": "043f3d75",
   "metadata": {},
   "source": [
    "### Nesting dictionaries"
   ]
  },
  {
   "cell_type": "code",
   "execution_count": 36,
   "id": "a321235c",
   "metadata": {},
   "outputs": [],
   "source": [
    "store = {\"t-shirt\":{\"price\":230,\"stock\":56},\"trousers\":{\"price\":1090,\"stock\":12}}"
   ]
  },
  {
   "cell_type": "markdown",
   "id": "abd91698",
   "metadata": {},
   "source": [
    "## Tuples\n",
    "A tuple is a collection which is ordered and unchangeable.\n",
    "\n",
    "Tuple items are ordered, unchangeable, and allow duplicate values.\n",
    "\n",
    "Tuple items are indexed, the first item has index [0]"
   ]
  },
  {
   "cell_type": "code",
   "execution_count": 44,
   "id": "7db5a7e0",
   "metadata": {},
   "outputs": [],
   "source": [
    "test = (\"Henrik\", \"Andersson\", 1983, \"Stockholm\")\n",
    "(fnamn,enamn,ar,stad) = test"
   ]
  },
  {
   "cell_type": "code",
   "execution_count": 45,
   "id": "b9e70866",
   "metadata": {},
   "outputs": [
    {
     "data": {
      "text/plain": [
       "('Henrik', 'Andersson')"
      ]
     },
     "execution_count": 45,
     "metadata": {},
     "output_type": "execute_result"
    }
   ],
   "source": [
    "fnamn, enamn"
   ]
  },
  {
   "cell_type": "markdown",
   "id": "97dcd500",
   "metadata": {},
   "source": [
    "## Set\n",
    "Set items are unordered, unchangeable, and do not allow duplicate values."
   ]
  },
  {
   "cell_type": "code",
   "execution_count": null,
   "id": "1eeeb88d",
   "metadata": {},
   "outputs": [],
   "source": [
    "st = set()\n",
    "st.add(1)\n",
    "st.add(2)"
   ]
  },
  {
   "cell_type": "code",
   "execution_count": null,
   "id": "ee034305",
   "metadata": {},
   "outputs": [],
   "source": [
    "s1 = {1,2,3,4}\n",
    "s2 = {3,4,5,6}\n",
    "s1 == s2"
   ]
  },
  {
   "cell_type": "code",
   "execution_count": null,
   "id": "131c0f54",
   "metadata": {},
   "outputs": [],
   "source": [
    "# Adding sets together\n",
    "s1 | s2"
   ]
  },
  {
   "cell_type": "code",
   "execution_count": null,
   "id": "24d33a9b",
   "metadata": {},
   "outputs": [],
   "source": [
    "# Overlapping values in set1 and set2\n",
    "s1&s2"
   ]
  },
  {
   "cell_type": "code",
   "execution_count": null,
   "id": "af8b411c",
   "metadata": {},
   "outputs": [],
   "source": [
    "# Values unique to set 2\n",
    "s2-s1\n",
    "\n",
    "print(range(3))"
   ]
  },
  {
   "cell_type": "markdown",
   "id": "3a624874",
   "metadata": {},
   "source": [
    "## Strings"
   ]
  },
  {
   "cell_type": "markdown",
   "id": "405526ab",
   "metadata": {},
   "source": [
    "### String methods\n",
    "Usefull string methods: <br>\n",
    "`.split()`, `.startswith()`, `.upper()`, `.lower()`, `.capitalize()`, `title()`, `count()`, `replace()`, `isnumeric()`\n",
    "\n",
    "Usefull methods to create strings: <br>\n",
    "`join()`"
   ]
  },
  {
   "cell_type": "code",
   "execution_count": 15,
   "id": "67ebc9fc",
   "metadata": {},
   "outputs": [
    {
     "data": {
      "text/plain": [
       "'1 2 3 4'"
      ]
     },
     "execution_count": 15,
     "metadata": {},
     "output_type": "execute_result"
    }
   ],
   "source": [
    "\" \".join(\"1 2 3 4\".split())"
   ]
  },
  {
   "cell_type": "markdown",
   "id": "be309018",
   "metadata": {},
   "source": [
    "### Escaping characters in strings"
   ]
  },
  {
   "cell_type": "markdown",
   "id": "b25ca01b",
   "metadata": {},
   "source": [
    "### Concatenating strings"
   ]
  },
  {
   "cell_type": "code",
   "execution_count": 16,
   "id": "e1bd7d87",
   "metadata": {},
   "outputs": [
    {
     "data": {
      "text/plain": [
       "'En rad, en annan rad'"
      ]
     },
     "execution_count": 16,
     "metadata": {},
     "output_type": "execute_result"
    }
   ],
   "source": [
    "# + operator, fastest\n",
    "\"En rad\" + \", en annan rad\" # f-strings\tMost readable"
   ]
  },
  {
   "cell_type": "code",
   "execution_count": 17,
   "id": "1ba8f919",
   "metadata": {},
   "outputs": [
    {
     "data": {
      "text/plain": [
       "'Antal fönster i lgh: 12'"
      ]
     },
     "execution_count": 17,
     "metadata": {},
     "output_type": "execute_result"
    }
   ],
   "source": [
    "# f-strings, most readable\n",
    "x = 12\n",
    "f\"Antal fönster i lgh: {x}\""
   ]
  },
  {
   "cell_type": "code",
   "execution_count": 23,
   "id": "1335502e",
   "metadata": {},
   "outputs": [
    {
     "name": "stdout",
     "output_type": "stream",
     "text": [
      "hello_hello_hello_\n"
     ]
    }
   ],
   "source": [
    "# * operator, best to repeat lists\n",
    "word = \"hello_\"\n",
    "print(word * 3)"
   ]
  },
  {
   "cell_type": "code",
   "execution_count": 26,
   "id": "05bc50e1",
   "metadata": {},
   "outputs": [
    {
     "data": {
      "text/plain": [
       "'Jag tror att lönen är 1923!'"
      ]
     },
     "execution_count": 26,
     "metadata": {},
     "output_type": "execute_result"
    }
   ],
   "source": [
    "# %s operator, backward compatible\n",
    "\"Jag {} att lönen är {}!\".format(\"tror\", 1923)"
   ]
  },
  {
   "cell_type": "code",
   "execution_count": 24,
   "id": "4fe01722",
   "metadata": {},
   "outputs": [
    {
     "name": "stdout",
     "output_type": "stream",
     "text": [
      "ord strand bensin\n"
     ]
    }
   ],
   "source": [
    "# Concatenating strings with .join()\n",
    "words = ['ord', 'strand', 'bensin']\n",
    "print(\" \".join(words))"
   ]
  },
  {
   "cell_type": "markdown",
   "id": "883a1a85",
   "metadata": {},
   "source": [
    "### RegEx\n",
    "See separate ReEx guide"
   ]
  },
  {
   "cell_type": "markdown",
   "id": "b0ccdfbb",
   "metadata": {},
   "source": [
    "# Functions"
   ]
  },
  {
   "cell_type": "markdown",
   "id": "0e3db054",
   "metadata": {},
   "source": [
    "## `*args` and `**kvargs`"
   ]
  },
  {
   "cell_type": "code",
   "execution_count": 54,
   "id": "f30db842",
   "metadata": {},
   "outputs": [],
   "source": [
    " # Default parameter value\n",
    "def myfunc(a,b,c=0):\n",
    "    return sum((a,b,c)) * 0.06"
   ]
  },
  {
   "cell_type": "code",
   "execution_count": 65,
   "id": "f60d4287",
   "metadata": {},
   "outputs": [],
   "source": [
    "# Args let us pass a tuple of arbitary length as input. Usefull when the numer of input variables is unknown\n",
    "def myfunc(*args):\n",
    "    return args"
   ]
  },
  {
   "cell_type": "code",
   "execution_count": 66,
   "id": "a72da79a",
   "metadata": {},
   "outputs": [
    {
     "name": "stdout",
     "output_type": "stream",
     "text": [
      "<class 'tuple'>\n"
     ]
    },
    {
     "data": {
      "text/plain": [
       "(12, 2, 3, 4, 66)"
      ]
     },
     "execution_count": 66,
     "metadata": {},
     "output_type": "execute_result"
    }
   ],
   "source": [
    "myfunc(12,2,3,4,66)"
   ]
  },
  {
   "cell_type": "code",
   "execution_count": 68,
   "id": "bef736ea",
   "metadata": {},
   "outputs": [],
   "source": [
    "# Kwargs let us imput arbitrary number of keywords arguments and will treat kwargs like a dictionary\n",
    "def myfunc(**kwargs):\n",
    "    if \"language\" in kwargs:\n",
    "        print(f\"My language of choice is {kwargs['language']}\")\n",
    "    else:\n",
    "        print(\"I dont code\")"
   ]
  },
  {
   "cell_type": "code",
   "execution_count": 69,
   "id": "dcba1718",
   "metadata": {},
   "outputs": [
    {
     "name": "stdout",
     "output_type": "stream",
     "text": [
      "My language of choice is Python\n"
     ]
    }
   ],
   "source": [
    "myfunc(language=\"Python\",test=\"Nej\")"
   ]
  },
  {
   "cell_type": "markdown",
   "id": "1b52d53d",
   "metadata": {},
   "source": [
    "## User input\n",
    "`input()`"
   ]
  },
  {
   "cell_type": "code",
   "execution_count": 53,
   "id": "0d1ccc14",
   "metadata": {},
   "outputs": [],
   "source": [
    "def anvin():\n",
    "    guess = \"\"\n",
    "    while guess not in [\"1\",\"2\",\"3\"]:\n",
    "        guess = input(\"Guess which cup (1,2 or 3) that contain the ball: \")\n",
    "    return int(guess)-1"
   ]
  },
  {
   "cell_type": "markdown",
   "id": "5d0c242f",
   "metadata": {},
   "source": [
    "## Lambda function"
   ]
  },
  {
   "cell_type": "code",
   "execution_count": 1,
   "id": "f71a0661",
   "metadata": {},
   "outputs": [
    {
     "data": {
      "text/plain": [
       "8"
      ]
     },
     "execution_count": 1,
     "metadata": {},
     "output_type": "execute_result"
    }
   ],
   "source": [
    "add2 = lambda a,b: a+b\n",
    "add2(3,5)"
   ]
  },
  {
   "cell_type": "markdown",
   "id": "a596fe37",
   "metadata": {},
   "source": [
    "## Usefull built in functions\n",
    "`map()`, `filter()`, `reduce()`, `zip()`, `enumerate()`\n",
    "\n",
    "`range()`, `filter()`, `count()`, `type()`, `print()`, `input()`, `len()`"
   ]
  },
  {
   "cell_type": "markdown",
   "id": "180d3c21",
   "metadata": {},
   "source": [
    "### `map()` function\n",
    "A standrad function that accepts at least two arguments: a function and an iterable"
   ]
  },
  {
   "cell_type": "code",
   "execution_count": 13,
   "id": "b28ca610",
   "metadata": {},
   "outputs": [
    {
     "data": {
      "text/plain": [
       "[32.0, 72.5, 53.6, 86.0]"
      ]
     },
     "execution_count": 13,
     "metadata": {},
     "output_type": "execute_result"
    }
   ],
   "source": [
    "list(map(lambda c: (9/5)*c + 32, [0, 22.5, 12, 30]))"
   ]
  },
  {
   "cell_type": "code",
   "execution_count": 14,
   "id": "8b80fb95",
   "metadata": {},
   "outputs": [
    {
     "data": {
      "text/plain": [
       "['A: 1', 'B: 2', 'C: 3']"
      ]
     },
     "execution_count": 14,
     "metadata": {},
     "output_type": "execute_result"
    }
   ],
   "source": [
    "aa={\"A\":1,\"B\":2,\"C\":3}\n",
    "list(map(lambda x,y: f\"{x}: {y}\",aa.keys(),aa.values()))"
   ]
  },
  {
   "cell_type": "markdown",
   "id": "6436723f",
   "metadata": {},
   "source": [
    "### `filter` function\n",
    "A standard function that takes at least two arguments: a function and an interable\n",
    "\n",
    "Will only return values that evaluate to True"
   ]
  },
  {
   "cell_type": "code",
   "execution_count": 9,
   "id": "69618a25",
   "metadata": {},
   "outputs": [
    {
     "data": {
      "text/plain": [
       "[22, 99, 102, 34]"
      ]
     },
     "execution_count": 9,
     "metadata": {},
     "output_type": "execute_result"
    }
   ],
   "source": [
    "list(filter(lambda u: u>20,[1,22,3,5,7,99,102,34]))"
   ]
  },
  {
   "cell_type": "markdown",
   "id": "f6d4361c",
   "metadata": {},
   "source": [
    "### `reduce` function\n",
    "Not a standard function, it has to be imported. Takes two arguments; function + iterable\n",
    "Dosen't return an iterable"
   ]
  },
  {
   "cell_type": "code",
   "execution_count": 11,
   "id": "6ff1c391",
   "metadata": {},
   "outputs": [],
   "source": [
    "from functools import reduce"
   ]
  },
  {
   "cell_type": "code",
   "execution_count": 15,
   "id": "3590f60b",
   "metadata": {},
   "outputs": [
    {
     "data": {
      "text/plain": [
       "120"
      ]
     },
     "execution_count": 15,
     "metadata": {},
     "output_type": "execute_result"
    }
   ],
   "source": [
    "reduce(lambda x, y: x*y, [1,2,3,4,5])"
   ]
  },
  {
   "cell_type": "markdown",
   "id": "e22087b6",
   "metadata": {},
   "source": [
    "### `zip` function"
   ]
  },
  {
   "cell_type": "code",
   "execution_count": 16,
   "id": "68afaa0e",
   "metadata": {
    "scrolled": true
   },
   "outputs": [
    {
     "data": {
      "text/plain": [
       "[(1, 'one'), (2, 'two'), (3, 'three'), (4, 'four'), (5, 'five')]"
      ]
     },
     "execution_count": 16,
     "metadata": {},
     "output_type": "execute_result"
    }
   ],
   "source": [
    "nums = [1,2,3,4,5]\n",
    "words = \"one two three four five\".split()\n",
    "list(zip(nums,words))"
   ]
  },
  {
   "cell_type": "markdown",
   "id": "718187a2",
   "metadata": {},
   "source": [
    "`zip` function can be used ti unzip a list of tuples using the `*` keyword"
   ]
  },
  {
   "cell_type": "code",
   "execution_count": 17,
   "id": "1f9a52b0",
   "metadata": {},
   "outputs": [
    {
     "data": {
      "text/plain": [
       "[('STAB', 'SEB', 'KINV', 'ASSA'), (234, 97, 163, 247)]"
      ]
     },
     "execution_count": 17,
     "metadata": {},
     "output_type": "execute_result"
    }
   ],
   "source": [
    "stock_prices = [(\"STAB\",234),(\"SEB\",97),(\"KINV\",163),(\"ASSA\",247)]\n",
    "list(zip(*stock_prices))"
   ]
  },
  {
   "cell_type": "markdown",
   "id": "be578f68",
   "metadata": {},
   "source": [
    "### `enumerate` function\n",
    "Usefull when we need to keep track on indices when looping over a sequence"
   ]
  },
  {
   "cell_type": "code",
   "execution_count": 18,
   "id": "1f88669d",
   "metadata": {},
   "outputs": [
    {
     "name": "stdout",
     "output_type": "stream",
     "text": [
      "Sweden is at index position 0 in the list\n",
      "Norway is at index position 1 in the list\n",
      "Denmark is at index position 2 in the list\n",
      "Finladn is at index position 3 in the list\n",
      "Iceland is at index position 4 in the list\n"
     ]
    }
   ],
   "source": [
    "lst = \"Sweden Norway Denmark Finladn Iceland\".split()\n",
    "for i,c in enumerate(lst):\n",
    "    print(f\"{c} is at index position {i} in the list\")"
   ]
  },
  {
   "cell_type": "code",
   "execution_count": null,
   "id": "db36792d",
   "metadata": {},
   "outputs": [],
   "source": []
  },
  {
   "cell_type": "code",
   "execution_count": null,
   "id": "74027c49",
   "metadata": {},
   "outputs": [],
   "source": []
  },
  {
   "cell_type": "code",
   "execution_count": null,
   "id": "cb3b2dcf",
   "metadata": {},
   "outputs": [],
   "source": []
  },
  {
   "cell_type": "code",
   "execution_count": null,
   "id": "c0d6a5c7",
   "metadata": {},
   "outputs": [],
   "source": []
  },
  {
   "cell_type": "markdown",
   "id": "355c3752",
   "metadata": {},
   "source": [
    "# Test av kod"
   ]
  },
  {
   "cell_type": "code",
   "execution_count": null,
   "id": "65e8e850",
   "metadata": {},
   "outputs": [],
   "source": [
    "solution(4)"
   ]
  },
  {
   "cell_type": "code",
   "execution_count": null,
   "id": "bfdd8f00",
   "metadata": {},
   "outputs": [],
   "source": [
    "def solution2(number):\n",
    "    if number>0:\n",
    "        ut = [i for i in range(1,number) if i%3==0 or i%5==0]\n",
    "    else:\n",
    "        ut = 0\n",
    "    return ut"
   ]
  },
  {
   "cell_type": "code",
   "execution_count": null,
   "id": "f191004c",
   "metadata": {},
   "outputs": [],
   "source": [
    "solution2(4)"
   ]
  },
  {
   "cell_type": "code",
   "execution_count": null,
   "id": "c6edee11",
   "metadata": {},
   "outputs": [],
   "source": [
    "import math"
   ]
  },
  {
   "cell_type": "code",
   "execution_count": null,
   "id": "7bc7ab7f",
   "metadata": {},
   "outputs": [],
   "source": [
    "def henr(p0, percent, aug, ar):\n",
    "    return aug*ar+p0*(1+percent/100)**ar\n",
    "\n",
    "def henr2(p0, percent, aug, ar):\n",
    "    for i in range(1,ar+1):\n",
    "        p0 = math.floor(aug+p0*(1+percent/100))\n",
    "    return p0"
   ]
  },
  {
   "cell_type": "code",
   "execution_count": null,
   "id": "adbc2eb1",
   "metadata": {},
   "outputs": [],
   "source": [
    "print(henr(1500, 5, 100, 15))\n",
    "print(henr2(1500, 5, 100, 15))"
   ]
  },
  {
   "cell_type": "code",
   "execution_count": null,
   "id": "a53daa9c",
   "metadata": {},
   "outputs": [],
   "source": [
    "def nb_year(p0, percent, aug, p):\n",
    "    y = 0\n",
    "    while p0 < p:\n",
    "        y += 1\n",
    "        p0 = math.floor(aug+p0*(1+percent/100))\n",
    "    return y"
   ]
  },
  {
   "cell_type": "code",
   "execution_count": null,
   "id": "6ee23174",
   "metadata": {},
   "outputs": [],
   "source": [
    "print(nb_year(1500, 5, 100, 5000))"
   ]
  },
  {
   "cell_type": "code",
   "execution_count": null,
   "id": "ee754e4c",
   "metadata": {},
   "outputs": [],
   "source": [
    "print(nb_year(1500000, 2.5, 10000, 2000000))"
   ]
  },
  {
   "cell_type": "code",
   "execution_count": null,
   "id": "6763ca4c",
   "metadata": {},
   "outputs": [],
   "source": [
    "import regex as re\n",
    "def longest(a, b):\n",
    "    aa = set(a+b)\n",
    "    print(aa)\n",
    "    pattern=r\"[a-z]\"\n",
    "    print(re.findall(pattern,a+b))"
   ]
  },
  {
   "cell_type": "code",
   "execution_count": null,
   "id": "410b154b",
   "metadata": {},
   "outputs": [],
   "source": [
    "a = \"xyaabbbccccdefww\"\n",
    "b = \"xxxxyyyyabklmopq\"\n",
    "longest(a, b)\n",
    "#\"abcdefklmopqwxy\""
   ]
  },
  {
   "cell_type": "raw",
   "id": "72bd26d0",
   "metadata": {},
   "source": []
  },
  {
   "cell_type": "code",
   "execution_count": null,
   "id": "f92da7f5",
   "metadata": {},
   "outputs": [],
   "source": []
  },
  {
   "cell_type": "code",
   "execution_count": null,
   "id": "f678c1ee",
   "metadata": {},
   "outputs": [],
   "source": [
    "\"\".join(sorted(set(re.findall(r\"[a-z]\",a+b))))"
   ]
  },
  {
   "cell_type": "code",
   "execution_count": null,
   "id": "edb2dda2",
   "metadata": {},
   "outputs": [],
   "source": [
    "\"\".join(sorted(set(a+b)&set(\"abcdefghijklmnopqrstuvxyz\")))"
   ]
  },
  {
   "cell_type": "code",
   "execution_count": null,
   "id": "946b4b3a",
   "metadata": {},
   "outputs": [],
   "source": [
    "a1=\"fijklmnopqrtuvyz\"\n",
    "a2=\"\"\n",
    "\"\".join(sorted(set(a1+a2)&set(\"abcdefghijklmnopqrstuvWxyz\")))"
   ]
  },
  {
   "cell_type": "code",
   "execution_count": null,
   "id": "77f8c6f6",
   "metadata": {},
   "outputs": [],
   "source": [
    "def square_digits(num):\n",
    "    return int(\"\".join([str(int(i)**2) for i in str(num)]))"
   ]
  },
  {
   "cell_type": "code",
   "execution_count": null,
   "id": "4bd7a2e9",
   "metadata": {},
   "outputs": [],
   "source": [
    "square_digits(9119)"
   ]
  },
  {
   "cell_type": "code",
   "execution_count": null,
   "id": "d697cc37",
   "metadata": {},
   "outputs": [],
   "source": [
    "def spin_words(sentence):\n",
    "    return \" \".join([i if len(i)<5 else i[::-1] for i in sentence.split(\" \")])"
   ]
  },
  {
   "cell_type": "code",
   "execution_count": null,
   "id": "3bf66611",
   "metadata": {},
   "outputs": [],
   "source": [
    "spin_words( \"This is a test\")"
   ]
  },
  {
   "cell_type": "code",
   "execution_count": null,
   "id": "04f4a7eb",
   "metadata": {},
   "outputs": [],
   "source": [
    "def digital_root(n):\n",
    "    ut = sum([int(i) for i in str(n)])\n",
    "    return ut if ut<10 else digital_root(ut)"
   ]
  },
  {
   "cell_type": "code",
   "execution_count": null,
   "id": "af927c95",
   "metadata": {},
   "outputs": [],
   "source": [
    "digital_root(493193)"
   ]
  },
  {
   "cell_type": "code",
   "execution_count": null,
   "id": "d62226c2",
   "metadata": {},
   "outputs": [],
   "source": [
    "def valid_braces(string):\n",
    "    a = len(string)+2\n",
    "    while len(string) < a:\n",
    "        a = len(string)\n",
    "        for i in [\"()\",\"[]\",\"{}\"]:\n",
    "            string = string.replace(i,\"\")\n",
    "    return True if a == 0 else False"
   ]
  },
  {
   "cell_type": "code",
   "execution_count": null,
   "id": "44438e5b",
   "metadata": {},
   "outputs": [],
   "source": [
    "valid_braces(\"([{}])\")"
   ]
  },
  {
   "cell_type": "code",
   "execution_count": 2,
   "id": "eefb4bd8",
   "metadata": {},
   "outputs": [],
   "source": [
    "def amount_of_pages(summary):\n",
    "    a, p = \"\", 0\n",
    "    while len(a) < summary:\n",
    "        p += 1\n",
    "        a += str(p)\n",
    "    return p"
   ]
  },
  {
   "cell_type": "code",
   "execution_count": 3,
   "id": "c796ea90",
   "metadata": {},
   "outputs": [
    {
     "name": "stdout",
     "output_type": "stream",
     "text": [
      "256\n"
     ]
    }
   ],
   "source": [
    "print(amount_of_pages(660))\n"
   ]
  },
  {
   "cell_type": "code",
   "execution_count": 13,
   "id": "e20adc4e",
   "metadata": {},
   "outputs": [],
   "source": [
    "def find_nb(m,n=1,dn=0):\n",
    "    while dn<m:\n",
    "        dn += n**3\n",
    "        if dn == m:\n",
    "            return n\n",
    "        n += 1\n",
    "    return -1"
   ]
  },
  {
   "cell_type": "code",
   "execution_count": 26,
   "id": "5eae90dc",
   "metadata": {},
   "outputs": [],
   "source": [
    "a = [-10, -9, -8, -6, -3, -2, -1, 0, 1, 3, 4, 5, 7, 8, 9, 10, 11, 14, 15, 17, 18, 19, 20]"
   ]
  },
  {
   "cell_type": "code",
   "execution_count": 77,
   "id": "64f1af9a",
   "metadata": {},
   "outputs": [],
   "source": [
    "def solution(args):\n",
    "    s,e,ut = 0,-1, []\n",
    "    for i,v in enumerate(args):\n",
    "        if v>args[s]+i-s:\n",
    "            e = i-1\n",
    "        elif i==len(args)-1:\n",
    "            e = i\n",
    "        if s <= e:\n",
    "            if e-s == 0:\n",
    "                ut.append(args[s])\n",
    "            elif e-s == 1:\n",
    "                ut += [args[s],args[e]]\n",
    "            elif e-s>1:\n",
    "                ut.append(f\"{args[s]}-{args[e]}\")\n",
    "            s, e = i, i-1\n",
    "    return ut"
   ]
  },
  {
   "cell_type": "code",
   "execution_count": 82,
   "id": "94029890",
   "metadata": {},
   "outputs": [],
   "source": [
    "import itertools"
   ]
  },
  {
   "cell_type": "code",
   "execution_count": 145,
   "id": "22c66017",
   "metadata": {},
   "outputs": [],
   "source": [
    "def solution(args):\n",
    "    ut = []\n",
    "    for k, g in itertools.groupby(enumerate(args),lambda t: t[1] - t[0]):\n",
    "        a = list(g)\n",
    "        st, end = a[0][1], a[-1][1]\n",
    "        if end-st == 0:\n",
    "            ut.append(str(st))\n",
    "        elif end-st == 1:\n",
    "            ut += [str(st),str(end)]\n",
    "        else:\n",
    "            ut.append(f\"{st}-{end}\")\n",
    "    return \",\".join(ut)"
   ]
  },
  {
   "cell_type": "code",
   "execution_count": 152,
   "id": "47f563ea",
   "metadata": {},
   "outputs": [
    {
     "data": {
      "text/plain": [
       "2"
      ]
     },
     "execution_count": 152,
     "metadata": {},
     "output_type": "execute_result"
    }
   ],
   "source": [
    "a=8\n",
    "b=6\n",
    "\n",
    "max(i for i in range(1,max(a,b)) if a%i == 0 and b%i == 0)"
   ]
  },
  {
   "cell_type": "code",
   "execution_count": null,
   "id": "487571aa",
   "metadata": {},
   "outputs": [],
   "source": [
    "def lcm(*args):\n",
    "    \n",
    "    \n",
    "    \n",
    "  \"\"\"Compute the least common multiple of some non-negative integers\"\"\""
   ]
  },
  {
   "cell_type": "code",
   "execution_count": null,
   "id": "afc813e5",
   "metadata": {},
   "outputs": [],
   "source": [
    "dct = {i:encrypted_text.count(i) for i in set(encrypted_text)}"
   ]
  },
  {
   "cell_type": "code",
   "execution_count": null,
   "id": "4dfe5a69",
   "metadata": {},
   "outputs": [],
   "source": [
    "import operator\n",
    "\n",
    "dct = dict(sorted(dct.items(),key = operator.itemgetter(1), reverse = True))"
   ]
  },
  {
   "cell_type": "code",
   "execution_count": null,
   "id": "53917a07",
   "metadata": {},
   "outputs": [],
   "source": []
  }
 ],
 "metadata": {
  "kernelspec": {
   "display_name": "Python 3 (ipykernel)",
   "language": "python",
   "name": "python3"
  },
  "language_info": {
   "codemirror_mode": {
    "name": "ipython",
    "version": 3
   },
   "file_extension": ".py",
   "mimetype": "text/x-python",
   "name": "python",
   "nbconvert_exporter": "python",
   "pygments_lexer": "ipython3",
   "version": "3.9.12"
  }
 },
 "nbformat": 4,
 "nbformat_minor": 5
}
