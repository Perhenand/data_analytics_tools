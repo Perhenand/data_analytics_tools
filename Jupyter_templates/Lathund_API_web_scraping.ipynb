{
 "cells": [
  {
   "cell_type": "markdown",
   "id": "7c50b8e7",
   "metadata": {},
   "source": [
    "# API"
   ]
  },
  {
   "cell_type": "code",
   "execution_count": 45,
   "id": "fe54f1e1",
   "metadata": {},
   "outputs": [],
   "source": [
    "import pandas as pd\n",
    "import json\n",
    "import requests\n",
    "import time\n",
    "pd.options.display.max_columns = 30"
   ]
  },
  {
   "cell_type": "code",
   "execution_count": 36,
   "id": "3e1e8fd2",
   "metadata": {},
   "outputs": [],
   "source": [
    "api_key = \"api_key=08cd2508b22085e68cf85cbcadecf313\"\n",
    "urltv = lambda i: f\"https://api.themoviedb.org/3/tv/{i}?{api_key}\"\n",
    "urlmovie = lambda i: f\"https://api.themoviedb.org/3/movie/{i}?{api_key}\"\n",
    "\n",
    "def api_thmdb(tv_id,tv=True,trst = 0.2):\n",
    "    json_lst = []\n",
    "    for i in tv_id:\n",
    "        time.sleep(trst)\n",
    "        r = requests.get(urltv(i) if tv else urlmovie(i))\n",
    "        if r.status_code == 200:\n",
    "            json_lst.append(r.json())\n",
    "    return pd.DataFrame(json_lst)"
   ]
  },
  {
   "cell_type": "markdown",
   "id": "c6537122",
   "metadata": {},
   "source": [
    "## Scraping a single item"
   ]
  },
  {
   "cell_type": "code",
   "execution_count": 34,
   "id": "081f3e61",
   "metadata": {},
   "outputs": [],
   "source": [
    "df = api_thmdb([550],tv=False)"
   ]
  },
  {
   "cell_type": "code",
   "execution_count": null,
   "id": "2afa347d",
   "metadata": {},
   "outputs": [],
   "source": [
    "# Normalize semi-structured JSON data into a flat table.\n",
    "pd.json_normalize(data=data,record_path=\"genres\",meta=\"title\")\n",
    "pd.json_normalize(data=data,record_path=\"production_companies\",meta=[\"title\",\"release_date\"])"
   ]
  },
  {
   "cell_type": "markdown",
   "id": "406ac481",
   "metadata": {},
   "source": [
    "## Getting Top rated TV-series from 2015-2020"
   ]
  },
  {
   "cell_type": "code",
   "execution_count": 42,
   "id": "dde3d889",
   "metadata": {},
   "outputs": [],
   "source": [
    "root_url = \"https://api.themoviedb.org/3/discover/tv?\"\n",
    "query = \"&sort_by=popularity.desc&air_date.gte=2015&air_date.lte=2022&include_null_first_air_dates=false\"\n",
    "url = root_url + api_key + query"
   ]
  },
  {
   "cell_type": "code",
   "execution_count": 43,
   "id": "c3259fad",
   "metadata": {},
   "outputs": [],
   "source": [
    "data = requests.get(url).json()\n",
    "df = pd.DataFrame(data[\"results\"])"
   ]
  },
  {
   "cell_type": "markdown",
   "id": "d17b3aec",
   "metadata": {},
   "source": [
    "## Get all info about the most popular TV-series"
   ]
  },
  {
   "cell_type": "code",
   "execution_count": 44,
   "id": "5f042719",
   "metadata": {},
   "outputs": [],
   "source": [
    "tv_id = df[\"id\"].tolist()\n",
    "df = api_thmdb(tv_id,tv=True)"
   ]
  },
  {
   "cell_type": "markdown",
   "id": "11198464",
   "metadata": {},
   "source": [
    "## Saving our JSON file"
   ]
  },
  {
   "cell_type": "code",
   "execution_count": null,
   "id": "426116bd",
   "metadata": {},
   "outputs": [],
   "source": [
    "df.to_json(\"tvs.json\",orient=\"records\")"
   ]
  },
  {
   "cell_type": "code",
   "execution_count": null,
   "id": "e75904ae",
   "metadata": {},
   "outputs": [],
   "source": [
    "# Opening json\n",
    "\n",
    "with open(\"tvs.json\") as f:\n",
    "    data = json.load(f)"
   ]
  },
  {
   "cell_type": "code",
   "execution_count": null,
   "id": "ac36f573",
   "metadata": {},
   "outputs": [],
   "source": [
    "# Json to DataFrame\n",
    "\n",
    "pd.json_normalize(data)\n",
    "pd.read_json(\"tvs.json\")"
   ]
  },
  {
   "cell_type": "markdown",
   "id": "1ede7168",
   "metadata": {},
   "source": [
    "# Web scraping"
   ]
  },
  {
   "cell_type": "code",
   "execution_count": 70,
   "id": "b345f287",
   "metadata": {},
   "outputs": [],
   "source": [
    "from bs4 import BeautifulSoup\n",
    "import re\n",
    "import numpy as np"
   ]
  },
  {
   "cell_type": "markdown",
   "id": "d9aed06c",
   "metadata": {},
   "source": [
    "## Scrape IMDB"
   ]
  },
  {
   "cell_type": "code",
   "execution_count": 64,
   "id": "f877afab",
   "metadata": {},
   "outputs": [],
   "source": [
    "url = \"https://www.imdb.com/search/title/?year=2008-01-01,2008-12-31&sort=num_votes,desc&start=1&ref_=adv_nxt\"\n",
    "\n",
    "html = requests.get(url).content\n",
    "soup = BeautifulSoup(html)"
   ]
  },
  {
   "cell_type": "code",
   "execution_count": 65,
   "id": "e4fdd7ee",
   "metadata": {},
   "outputs": [],
   "source": [
    "pattern = r\"[\\d]+\"\n",
    "\n",
    "mnr = \"h3.lister-item-header\"\n",
    "mt = \"h3.lister-item-header>a\"\n",
    "md = \"h3.lister-item-header>span:last-child\"\n",
    "mrat = \"div.ratings-imdb-rating>strong\"\n",
    "mrun = \"span.runtime\"\n",
    "mgro = \"p.sort-num_votes-visible>span:nth-child(5)\""
   ]
  },
  {
   "cell_type": "code",
   "execution_count": 66,
   "id": "4cd727ab",
   "metadata": {},
   "outputs": [
    {
     "data": {
      "text/plain": [
       "['$534.86M',\n",
       " '$223.81M',\n",
       " '$318.41M',\n",
       " '$141.32M',\n",
       " '$148.10M',\n",
       " '$127.51M',\n",
       " '$145.00M',\n",
       " '$134.52M']"
      ]
     },
     "execution_count": 66,
     "metadata": {},
     "output_type": "execute_result"
    }
   ],
   "source": [
    "# Title\n",
    "[i.text for i in soup.select(mnr)][0:5]\n",
    "# Year\n",
    "[re.findall(pattern, i.text.split(\"–\")[0]) for i in soup.select(md)][0:8]\n",
    "# Rating\n",
    "[i.text for i in soup.select(mrat)][0:8]\n",
    "# Runtime\n",
    "[i.text for i in soup.select(mrun)][0:8]\n",
    "# Gross\n",
    "[i.text for i in soup.select(mgro)][0:8]"
   ]
  },
  {
   "cell_type": "code",
   "execution_count": 62,
   "id": "293211f9",
   "metadata": {},
   "outputs": [
    {
     "data": {
      "text/plain": [
       "['/title/tt0468569/']"
      ]
     },
     "execution_count": 62,
     "metadata": {},
     "output_type": "execute_result"
    }
   ],
   "source": [
    "# Get links / href\n",
    "cont = soup.select(\"div.lister-item\")\n",
    "[i[\"href\"] for i in cont[0].select(\"h3 > a\")]"
   ]
  },
  {
   "cell_type": "markdown",
   "id": "5852169b",
   "metadata": {},
   "source": [
    "## Container method"
   ]
  },
  {
   "cell_type": "code",
   "execution_count": 71,
   "id": "8ed7191a",
   "metadata": {},
   "outputs": [],
   "source": [
    "# Build a function that takes care of missing data\n",
    "\n",
    "def item_extr(item_cont, key):\n",
    "    parse = item_cont.select(key)\n",
    "    return parse[0].text if parse else np.nan"
   ]
  },
  {
   "cell_type": "code",
   "execution_count": 72,
   "id": "7ab319b5",
   "metadata": {},
   "outputs": [],
   "source": [
    "mm = \"div.lister-item\"\n",
    "name_key = \"h3 > a\"\n",
    "gross_key = \"p.sort-num_votes-visible > span:nth-child(5)\"\n",
    "year_key = \"h3 > span.lister-item-year\"\n",
    "rating_key = \"div.inline-block > strong\"\n",
    "runtime_key = \"span.runtime\"\n",
    "\n",
    "name_lst = []\n",
    "gross_lst = []\n",
    "year_lst = []\n",
    "rating_lst = []\n",
    "runtime_lst = []\n",
    "\n",
    "for i in soup.select(mm):\n",
    "    # name\n",
    "    name_lst.append(item_extr(i, name_key))\n",
    "    \n",
    "    # gross\n",
    "    gross_lst.append(item_extr(i, gross_key))\n",
    "    \n",
    "    # year\n",
    "    year_lst.append(item_extr(i, year_key))\n",
    "    \n",
    "    # rating\n",
    "    rating_lst.append(item_extr(i, rating_key))\n",
    "    \n",
    "    # runtime\n",
    "    runtime_lst.append(item_extr(i, runtime_key))"
   ]
  },
  {
   "cell_type": "code",
   "execution_count": null,
   "id": "eb081234",
   "metadata": {},
   "outputs": [],
   "source": []
  }
 ],
 "metadata": {
  "kernelspec": {
   "display_name": "Python 3 (ipykernel)",
   "language": "python",
   "name": "python3"
  },
  "language_info": {
   "codemirror_mode": {
    "name": "ipython",
    "version": 3
   },
   "file_extension": ".py",
   "mimetype": "text/x-python",
   "name": "python",
   "nbconvert_exporter": "python",
   "pygments_lexer": "ipython3",
   "version": "3.9.12"
  }
 },
 "nbformat": 4,
 "nbformat_minor": 5
}
